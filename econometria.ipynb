{
 "cells": [
  {
   "cell_type": "markdown",
   "source": [
    "# Trabajo final Econometría\n",
    "## Estimador de salarios en puestos Tech de EEUU\n",
    "### Hecho por: Matthew Samuel Horne Negro\n"
   ],
   "metadata": {
    "collapsed": false
   }
  },
  {
   "cell_type": "markdown",
   "source": [
    "# Primeros modelos econométricos"
   ],
   "metadata": {
    "collapsed": false
   }
  },
  {
   "cell_type": "markdown",
   "source": [
    "### 1"
   ],
   "metadata": {
    "collapsed": false
   }
  },
  {
   "cell_type": "code",
   "execution_count": 109,
   "outputs": [],
   "source": [
    "import pandas as pd\n",
    "import statsmodels.api as sm\n",
    "import matplotlib.pylab as plt\n",
    "import numpy as np"
   ],
   "metadata": {
    "collapsed": false
   }
  },
  {
   "cell_type": "markdown",
   "source": [
    "Me gusta tener todos los imports juntos por comodidad y no tener que estar repitiendolos o ejeuctando secuencias innecesarias"
   ],
   "metadata": {
    "collapsed": false
   }
  },
  {
   "cell_type": "code",
   "execution_count": 110,
   "outputs": [
    {
     "name": "stdout",
     "output_type": "stream",
     "text": [
      "                            OLS Regression Results                            \n",
      "==============================================================================\n",
      "Dep. Variable:                      y   R-squared:                       0.665\n",
      "Model:                            OLS   Adj. R-squared:                  0.665\n",
      "Method:                 Least Squares   F-statistic:                     6539.\n",
      "Date:                Sat, 09 Dec 2023   Prob (F-statistic):               0.00\n",
      "Time:                        17:56:08   Log-Likelihood:                -77296.\n",
      "No. Observations:                6582   AIC:                         1.546e+05\n",
      "Df Residuals:                    6579   BIC:                         1.546e+05\n",
      "Df Model:                           2                                         \n",
      "Covariance Type:            nonrobust                                         \n",
      "==============================================================================\n",
      "                 coef    std err          t      P>|t|      [0.025      0.975]\n",
      "------------------------------------------------------------------------------\n",
      "const        9.89e+04   3462.794     28.559      0.000    9.21e+04    1.06e+05\n",
      "x1         -1672.0902    141.607    -11.808      0.000   -1949.687   -1394.494\n",
      "x2          9044.7257    178.238     50.745      0.000    8695.322    9394.129\n",
      "==============================================================================\n",
      "Omnibus:                      131.677   Durbin-Watson:                   0.206\n",
      "Prob(Omnibus):                  0.000   Jarque-Bera (JB):              164.363\n",
      "Skew:                           0.273   Prob(JB):                     2.04e-36\n",
      "Kurtosis:                       3.549   Cond. No.                         329.\n",
      "==============================================================================\n",
      "\n",
      "Notes:\n",
      "[1] Standard Errors assume that the covariance matrix of the errors is correctly specified.\n"
     ]
    }
   ],
   "source": [
    "data = pd.read_csv('Salary_Data.csv')\n",
    "\n",
    "# Modelo Regresión:  modeldata=stock.values\n",
    "X = data.values[:, [0, 4]].astype(int)  # Age, Years of Experience\n",
    "Y = data.values[:, 5].astype(int)  # Salary\n",
    "\n",
    "results = sm.OLS(Y, sm.add_constant(X)).fit()\n",
    "\n",
    "print(results.summary())"
   ],
   "metadata": {
    "collapsed": false
   }
  },
  {
   "cell_type": "markdown",
   "source": [
    "**R-squared (R-cuadrado):**\n",
    "\n",
    "R-squared es una medida de la bondad de ajuste del modelo de regresión. En este caso, el valor es 0.662, lo que significa que aproximadamente el 66.2% de la variabilidad en la variable dependiente (y) puede ser explicada por las variables independientes (x1 y x2) incluidas en el modelo. Un R-cuadrado más alto indica un mejor ajuste del modelo a los datos. Este se alcanzará conforme vayamos haciendo más complejo el modelo e introduzcamos más variables clave como Job Title o Education.\n",
    "\n",
    "**Adj. R-squared (R-cuadrado ajustado):**\n",
    "\n",
    "El R-cuadrado ajustado es similar al R-cuadrado, pero tiene en cuenta el número de variables independientes en el modelo. En este caso, el valor es también 0.662, lo que sugiere que el ajuste del modelo es consistente con el número de variables independientes incluidas.\n",
    "\n",
    "**F-statistic (Estadístico F):**\n",
    "\n",
    "El estadístico F se utiliza para evaluar la significación conjunta de todas las variables independientes en el modelo. Un valor grande del estadístico F (en este caso, 6556) con un p-valor pequeño (0.00) sugiere que al menos una de las variables independientes es significativa en la explicación de la variabilidad en la variable dependiente.\n",
    "\n",
    "**Coeficientes:**\n",
    "\n",
    "Bajo la sección \"coef\", se observan los coeficientes estimados para las variables en el modelo. En este caso, hay tres coeficientes: uno para la constante (intercepto), otro para x1 y otro para x2. Estos coeficientes indican cuánto cambia la variable dependiente (y) por unidad de cambio en las variables independientes (x1 y x2).\n",
    "Por ejemplo, el coeficiente para x2 es 9096.3430, lo que significa que, manteniendo todas las demás variables constantes, ceteris paribus, un aumento de una unidad en x2 se asocia con un aumento de aproximadamente 9096.3430 unidades en la variable dependiente (y), es decir, que en este caso por cada 1 año de experiencia más (Years of experience = x2) aumenta 9096.3430$ el salario (Salary = y)\n",
    "\n",
    "**Estadísticas adicionales:**\n",
    "\n",
    "Se proporcionan varias estadísticas adicionales, como el estadístico Omnibus, Durbin-Watson, Jarque-Bera, Skew, Kurtosis, entre otros. Estas estadísticas pueden ayudar a evaluar suposiciones sobre el modelo y la normalidad de los errores residuales."
   ],
   "metadata": {
    "collapsed": false
   }
  },
  {
   "cell_type": "markdown",
   "source": [
    "<div class=\"alert alert-info\">\n",
    "    <strong>Nota:</strong> Al usar una base de datos con variables que son de tipo string para este primer modelo solo usaremos\n",
    "    variables numéricas y que han tenido que ser forzosamente convertidas a int porque si no, genera un error de tipos.\n",
    "    <br><br>\n",
    "    Más adelante habrá que convertir las variables categóricas en dummies para el correcto funcionamiento\n",
    "\n",
    "</div>"
   ],
   "metadata": {
    "collapsed": false
   }
  },
  {
   "cell_type": "markdown",
   "source": [
    "### 2"
   ],
   "metadata": {
    "collapsed": false
   }
  },
  {
   "cell_type": "code",
   "execution_count": 111,
   "outputs": [],
   "source": [
    "n = 100\n",
    "\n",
    "X = np.random.normal(0, 10, n)\n",
    "Y = X + np.random.normal(0, 1, n)"
   ],
   "metadata": {
    "collapsed": false
   }
  },
  {
   "cell_type": "code",
   "execution_count": 112,
   "outputs": [
    {
     "data": {
      "text/plain": "<Figure size 640x480 with 1 Axes>",
      "image/png": "[encoded data removed]"
     },
     "metadata": {},
     "output_type": "display_data"
    }
   ],
   "source": [
    "plt.scatter(X, Y, s=1)\n",
    "\n",
    "plt.show()"
   ],
   "metadata": {
    "collapsed": false
   }
  },
  {
   "cell_type": "code",
   "execution_count": 113,
   "outputs": [
    {
     "name": "stdout",
     "output_type": "stream",
     "text": [
      "                            OLS Regression Results                            \n",
      "==============================================================================\n",
      "Dep. Variable:                      y   R-squared:                       0.991\n",
      "Model:                            OLS   Adj. R-squared:                  0.991\n",
      "Method:                 Least Squares   F-statistic:                 1.111e+04\n",
      "Date:                Sat, 09 Dec 2023   Prob (F-statistic):          1.11e-102\n",
      "Time:                        17:56:09   Log-Likelihood:                -135.47\n",
      "No. Observations:                 100   AIC:                             274.9\n",
      "Df Residuals:                      98   BIC:                             280.1\n",
      "Df Model:                           1                                         \n",
      "Covariance Type:            nonrobust                                         \n",
      "==============================================================================\n",
      "                 coef    std err          t      P>|t|      [0.025      0.975]\n",
      "------------------------------------------------------------------------------\n",
      "const          0.0281      0.095      0.297      0.767      -0.160       0.216\n",
      "x1             0.9898      0.009    105.418      0.000       0.971       1.008\n",
      "==============================================================================\n",
      "Omnibus:                        1.660   Durbin-Watson:                   1.753\n",
      "Prob(Omnibus):                  0.436   Jarque-Bera (JB):                1.113\n",
      "Skew:                          -0.139   Prob(JB):                        0.573\n",
      "Kurtosis:                       3.436   Cond. No.                         10.1\n",
      "==============================================================================\n",
      "\n",
      "Notes:\n",
      "[1] Standard Errors assume that the covariance matrix of the errors is correctly specified.\n"
     ]
    }
   ],
   "source": [
    "results = sm.OLS(Y, sm.add_constant(X)).fit()\n",
    "\n",
    "print(results.summary())"
   ],
   "metadata": {
    "collapsed": false
   }
  },
  {
   "cell_type": "code",
   "execution_count": 114,
   "outputs": [
    {
     "data": {
      "text/plain": "<Figure size 640x480 with 1 Axes>",
      "image/png": "[encoded data removed]"
     },
     "metadata": {},
     "output_type": "display_data"
    }
   ],
   "source": [
    "cte = results.params[0]\n",
    "beta = results.params[1]\n",
    "\n",
    "plt.plot([-20, 20], [cte + beta * (-20), cte + beta * 20], color='r')\n",
    "plt.scatter(X, Y, s=1)\n",
    "\n",
    "plt.show()"
   ],
   "metadata": {
    "collapsed": false
   }
  },
  {
   "cell_type": "markdown",
   "source": [
    "El código de los bloques realiza una simulación de datos y ajusta un modelo de regresión lineal a dichos datos.\n",
    "\n",
    "1. **Generación de Datos:** Se crean dos conjuntos de datos, X e Y, donde X son valores tomados de una distribución normal con una media de 0 y desviación estándar de 10, e Y es una función lineal de X más un término de error aleatorio normalmente distribuido. Esto simula una relación lineal entre X e Y con algo de ruido.\n",
    "\n",
    "2. **Visualización de Datos:** Se genera un gráfico de dispersión utilizando matplotlib para visualizar la relación entre X e Y. Cada punto representa una observación del conjunto de datos simulado.\n",
    "\n",
    "3. **Ajuste de Modelo de Regresión:** Se ajusta un modelo de regresión lineal ordinaria de mínimos cuadrados utilizando statsmodels con Y como variable dependiente y X como independiente. Se añade una constante al modelo para incluir un término de intercepto. Se imprime un resumen del modelo que proporciona detalles estadísticos del ajuste.\n",
    "\n",
    "4. **Visualización del Modelo de Regresión:** Se extraen el intercepto y la pendiente (coeficientes) del modelo ajustado y se utiliza para dibujar la línea de regresión sobre el gráfico de dispersión existente. La línea roja representa la relación estimada entre X e Y según el modelo de regresión."
   ],
   "metadata": {
    "collapsed": false
   }
  },
  {
   "cell_type": "markdown",
   "source": [
    "---"
   ],
   "metadata": {
    "collapsed": false
   }
  },
  {
   "cell_type": "markdown",
   "source": [
    "# Estimación e Inferencia en Modelos de Regresión Lineales"
   ],
   "metadata": {
    "collapsed": false
   }
  },
  {
   "cell_type": "markdown",
   "source": [
    "## Modelo 1"
   ],
   "metadata": {
    "collapsed": false
   }
  },
  {
   "cell_type": "code",
   "execution_count": 115,
   "outputs": [
    {
     "name": "stdout",
     "output_type": "stream",
     "text": [
      "               Age  Years of Experience         Salary\n",
      "count  6582.000000          6582.000000    6582.000000\n",
      "mean     33.570799             8.071711  115768.665755\n",
      "std       7.606075             6.042927   52677.912125\n",
      "min      21.000000             0.000000   25000.000000\n",
      "25%      28.000000             3.000000   70000.000000\n",
      "50%      32.000000             7.000000  115000.000000\n",
      "75%      38.000000            12.000000  160000.000000\n",
      "max      62.000000            34.000000  250000.000000\n"
     ]
    }
   ],
   "source": [
    "# Reemplaza 'tu_archivo.csv' con el nombre de tu archivo CSV\n",
    "df = pd.read_csv('Salary_Data.csv')\n",
    "\n",
    "# Muestra información general sobre el DataFrame, como el tipo de datos y los valores no nulos\n",
    "#print(df.info())\n",
    "\n",
    "# Muestra estadísticas descriptivas de las variables numéricas\n",
    "print(df.describe())"
   ],
   "metadata": {
    "collapsed": false
   }
  },
  {
   "cell_type": "markdown",
   "source": [
    "1. **Count (Conteo):** Muestra el número total de entradas (no nulas) para cada variable.\n",
    "    - En este caso, hay 6695 entradas para cada una de las variables: Age (Edad), Years of Experience (Años de Experiencia) y Salary (Salario).\n",
    "\n",
    "2. **Mean (Media):** Es el promedio de los valores para cada variable.\n",
    "    - La edad promedio es aproximadamente 33.63 años.\n",
    "    - Los años de experiencia promedio son aproximadamente 8.10 años.\n",
    "    - El salario promedio es de aproximadamente 115,395.57 unidades monetarias ($).\n",
    "\n",
    "3. **Std (Desviación Estándar):** Mide la cantidad de variación o dispersión de un conjunto de valores.\n",
    "    - La desviación estándar de la edad es aproximadamente 7.62 años, lo que indica la variabilidad de la edad en el conjunto de datos.\n",
    "    - La desviación estándar de los años de experiencia es de aproximadamente 6.06 años.\n",
    "    - La desviación estándar del salario es de aproximadamente 52,727.24, indicando la variabilidad en los salarios.\n",
    "\n",
    "4. **Min (Mínimo):** Es el valor más bajo en cada columna.\n",
    "    - La edad mínima es de 21 años.\n",
    "    - El mínimo de años de experiencia es 0 (personas sin experiencia previa).\n",
    "    - El salario mínimo es de 25,000.\n",
    "\n",
    "5. **25% (Percentil 25):** Este es el valor por debajo del cual se encuentra el 25% de los datos.\n",
    "    - 25% de los empleados tienen 28 años o menos.\n",
    "    - 25% tienen 3 años o menos de experiencia.\n",
    "    - 25% ganan 70,000 o menos.\n",
    "\n",
    "6. **50% (Mediana o Percentil 50):** Es el valor medio, donde la mitad de los datos está por debajo de este valor y la otra mitad por encima.\n",
    "    - La mediana de la edad es de 32 años.\n",
    "    - La mediana de los años de experiencia es de 7 años.\n",
    "    - La mediana del salario es de 115,000.\n",
    "\n",
    "7. **75% (Percentil 75):** El valor por debajo del cual se encuentra el 75% de los datos.\n",
    "    - 75% de los empleados tienen 38 años o menos.\n",
    "    - 75% tienen 12 años o menos de experiencia.\n",
    "    - 75% ganan 160,000 o menos.\n",
    "\n",
    "8. **Max (Máximo):** Es el valor más alto en cada columna.\n",
    "    - La edad máxima es de 62 años.\n",
    "    - El máximo de años de experiencia es de 34 años.\n",
    "    - El salario máximo es de 250,000."
   ],
   "metadata": {
    "collapsed": false
   }
  },
  {
   "cell_type": "code",
   "execution_count": 128,
   "outputs": [
    {
     "data": {
      "text/plain": "      Age  Years of Experience  Salary  Education Level_Bachelor's Degree  \\\n0      46                   18  155795                                  1   \n1      46                   18  155795                                  1   \n2      46                   18  155795                                  1   \n3      46                   18  155795                                  1   \n4      38                   10  155000                                  0   \n...   ...                  ...     ...                                ...   \n6577   25                    2   69032                                  0   \n6578   23                    2   62852                                  0   \n6579   23                    2   62852                                  0   \n6580   31                    8  104127                                  0   \n6581   31                    8  104127                                  0   \n\n      Education Level_High School  Education Level_Master's Degree  \\\n0                               0                                0   \n1                               0                                0   \n2                               0                                0   \n3                               0                                0   \n4                               0                                1   \n...                           ...                              ...   \n6577                            1                                0   \n6578                            1                                0   \n6579                            1                                0   \n6580                            1                                0   \n6581                            1                                0   \n\n      Education Level_PhD  Job Title_Back end Developer  \\\n0                       0                             1   \n1                       0                             1   \n2                       0                             1   \n3                       0                             1   \n4                       0                             1   \n...                   ...                           ...   \n6577                    0                             0   \n6578                    0                             0   \n6579                    0                             0   \n6580                    0                             1   \n6581                    0                             1   \n\n      Job Title_Content Marketing Manager  \\\n0                                       0   \n1                                       0   \n2                                       0   \n3                                       0   \n4                                       0   \n...                                   ...   \n6577                                    0   \n6578                                    0   \n6579                                    0   \n6580                                    0   \n6581                                    0   \n\n      Job Title_Customer Service Representative  ...  \\\n0                                             0  ...   \n1                                             0  ...   \n2                                             0  ...   \n3                                             0  ...   \n4                                             0  ...   \n...                                         ...  ...   \n6577                                          0  ...   \n6578                                          0  ...   \n6579                                          0  ...   \n6580                                          0  ...   \n6581                                          0  ...   \n\n      Job Title_Senior UX Designer  Job Title_Social Media Manager  \\\n0                                0                               0   \n1                                0                               0   \n2                                0                               0   \n3                                0                               0   \n4                                0                               0   \n...                            ...                             ...   \n6577                             0                               0   \n6578                             0                               0   \n6579                             0                               0   \n6580                             0                               0   \n6581                             0                               0   \n\n      Job Title_Software Developer  Job Title_Software Engineer  \\\n0                                0                            0   \n1                                0                            0   \n2                                0                            0   \n3                                0                            0   \n4                                0                            0   \n...                            ...                          ...   \n6577                             0                            0   \n6578                             0                            0   \n6579                             0                            0   \n6580                             0                            0   \n6581                             0                            0   \n\n      Job Title_Software Engineer Manager  Job Title_Software Project Manager  \\\n0                                       0                                   0   \n1                                       0                                   0   \n2                                       0                                   0   \n3                                       0                                   0   \n4                                       0                                   0   \n...                                   ...                                 ...   \n6577                                    0                                   0   \n6578                                    0                                   0   \n6579                                    0                                   0   \n6580                                    0                                   0   \n6581                                    0                                   0   \n\n      Job Title_Web Developer  Gender_Female  Gender_Male  Gender_Other  \n0                           0              1            0             0  \n1                           0              1            0             0  \n2                           0              1            0             0  \n3                           0              1            0             0  \n4                           0              1            0             0  \n...                       ...            ...          ...           ...  \n6577                        0              0            0             1  \n6578                        0              0            0             1  \n6579                        0              0            0             1  \n6580                        0              0            0             1  \n6581                        0              0            0             1  \n\n[6582 rows x 107 columns]",
      "text/html": "<div>\n<style scoped>\n    .dataframe tbody tr th:only-of-type {\n        vertical-align: middle;\n    }\n\n    .dataframe tbody tr th {\n        vertical-align: top;\n    }\n\n    .dataframe thead th {\n        text-align: right;\n    }\n</style>\n<table border=\"1\" class=\"dataframe\">\n  <thead>\n    <tr style=\"text-align: right;\">\n      <th></th>\n      <th>Age</th>\n      <th>Years of Experience</th>\n      <th>Salary</th>\n      <th>Education Level_Bachelor's Degree</th>\n      <th>Education Level_High School</th>\n      <th>Education Level_Master's Degree</th>\n      <th>Education Level_PhD</th>\n      <th>Job Title_Back end Developer</th>\n      <th>Job Title_Content Marketing Manager</th>\n      <th>Job Title_Customer Service Representative</th>\n      <th>...</th>\n      <th>Job Title_Senior UX Designer</th>\n      <th>Job Title_Social Media Manager</th>\n      <th>Job Title_Software Developer</th>\n      <th>Job Title_Software Engineer</th>\n      <th>Job Title_Software Engineer Manager</th>\n      <th>Job Title_Software Project Manager</th>\n      <th>Job Title_Web Developer</th>\n      <th>Gender_Female</th>\n      <th>Gender_Male</th>\n      <th>Gender_Other</th>\n    </tr>\n  </thead>\n  <tbody>\n    <tr>\n      <th>0</th>\n      <td>46</td>\n      <td>18</td>\n      <td>155795</td>\n      <td>1</td>\n      <td>0</td>\n      <td>0</td>\n      <td>0</td>\n      <td>1</td>\n      <td>0</td>\n      <td>0</td>\n      <td>...</td>\n      <td>0</td>\n      <td>0</td>\n      <td>0</td>\n      <td>0</td>\n      <td>0</td>\n      <td>0</td>\n      <td>0</td>\n      <td>1</td>\n      <td>0</td>\n      <td>0</td>\n    </tr>\n    <tr>\n      <th>1</th>\n      <td>46</td>\n      <td>18</td>\n      <td>155795</td>\n      <td>1</td>\n      <td>0</td>\n      <td>0</td>\n      <td>0</td>\n      <td>1</td>\n      <td>0</td>\n      <td>0</td>\n      <td>...</td>\n      <td>0</td>\n      <td>0</td>\n      <td>0</td>\n      <td>0</td>\n      <td>0</td>\n      <td>0</td>\n      <td>0</td>\n      <td>1</td>\n      <td>0</td>\n      <td>0</td>\n    </tr>\n    <tr>\n      <th>2</th>\n      <td>46</td>\n      <td>18</td>\n      <td>155795</td>\n      <td>1</td>\n      <td>0</td>\n      <td>0</td>\n      <td>0</td>\n      <td>1</td>\n      <td>0</td>\n      <td>0</td>\n      <td>...</td>\n      <td>0</td>\n      <td>0</td>\n      <td>0</td>\n      <td>0</td>\n      <td>0</td>\n      <td>0</td>\n      <td>0</td>\n      <td>1</td>\n      <td>0</td>\n      <td>0</td>\n    </tr>\n    <tr>\n      <th>3</th>\n      <td>46</td>\n      <td>18</td>\n      <td>155795</td>\n      <td>1</td>\n      <td>0</td>\n      <td>0</td>\n      <td>0</td>\n      <td>1</td>\n      <td>0</td>\n      <td>0</td>\n      <td>...</td>\n      <td>0</td>\n      <td>0</td>\n      <td>0</td>\n      <td>0</td>\n      <td>0</td>\n      <td>0</td>\n      <td>0</td>\n      <td>1</td>\n      <td>0</td>\n      <td>0</td>\n    </tr>\n    <tr>\n      <th>4</th>\n      <td>38</td>\n      <td>10</td>\n      <td>155000</td>\n      <td>0</td>\n      <td>0</td>\n      <td>1</td>\n      <td>0</td>\n      <td>1</td>\n      <td>0</td>\n      <td>0</td>\n      <td>...</td>\n      <td>0</td>\n      <td>0</td>\n      <td>0</td>\n      <td>0</td>\n      <td>0</td>\n      <td>0</td>\n      <td>0</td>\n      <td>1</td>\n      <td>0</td>\n      <td>0</td>\n    </tr>\n    <tr>\n      <th>...</th>\n      <td>...</td>\n      <td>...</td>\n      <td>...</td>\n      <td>...</td>\n      <td>...</td>\n      <td>...</td>\n      <td>...</td>\n      <td>...</td>\n      <td>...</td>\n      <td>...</td>\n      <td>...</td>\n      <td>...</td>\n      <td>...</td>\n      <td>...</td>\n      <td>...</td>\n      <td>...</td>\n      <td>...</td>\n      <td>...</td>\n      <td>...</td>\n      <td>...</td>\n      <td>...</td>\n    </tr>\n    <tr>\n      <th>6577</th>\n      <td>25</td>\n      <td>2</td>\n      <td>69032</td>\n      <td>0</td>\n      <td>1</td>\n      <td>0</td>\n      <td>0</td>\n      <td>0</td>\n      <td>0</td>\n      <td>0</td>\n      <td>...</td>\n      <td>0</td>\n      <td>0</td>\n      <td>0</td>\n      <td>0</td>\n      <td>0</td>\n      <td>0</td>\n      <td>0</td>\n      <td>0</td>\n      <td>0</td>\n      <td>1</td>\n    </tr>\n    <tr>\n      <th>6578</th>\n      <td>23</td>\n      <td>2</td>\n      <td>62852</td>\n      <td>0</td>\n      <td>1</td>\n      <td>0</td>\n      <td>0</td>\n      <td>0</td>\n      <td>0</td>\n      <td>0</td>\n      <td>...</td>\n      <td>0</td>\n      <td>0</td>\n      <td>0</td>\n      <td>0</td>\n      <td>0</td>\n      <td>0</td>\n      <td>0</td>\n      <td>0</td>\n      <td>0</td>\n      <td>1</td>\n    </tr>\n    <tr>\n      <th>6579</th>\n      <td>23</td>\n      <td>2</td>\n      <td>62852</td>\n      <td>0</td>\n      <td>1</td>\n      <td>0</td>\n      <td>0</td>\n      <td>0</td>\n      <td>0</td>\n      <td>0</td>\n      <td>...</td>\n      <td>0</td>\n      <td>0</td>\n      <td>0</td>\n      <td>0</td>\n      <td>0</td>\n      <td>0</td>\n      <td>0</td>\n      <td>0</td>\n      <td>0</td>\n      <td>1</td>\n    </tr>\n    <tr>\n      <th>6580</th>\n      <td>31</td>\n      <td>8</td>\n      <td>104127</td>\n      <td>0</td>\n      <td>1</td>\n      <td>0</td>\n      <td>0</td>\n      <td>1</td>\n      <td>0</td>\n      <td>0</td>\n      <td>...</td>\n      <td>0</td>\n      <td>0</td>\n      <td>0</td>\n      <td>0</td>\n      <td>0</td>\n      <td>0</td>\n      <td>0</td>\n      <td>0</td>\n      <td>0</td>\n      <td>1</td>\n    </tr>\n    <tr>\n      <th>6581</th>\n      <td>31</td>\n      <td>8</td>\n      <td>104127</td>\n      <td>0</td>\n      <td>1</td>\n      <td>0</td>\n      <td>0</td>\n      <td>1</td>\n      <td>0</td>\n      <td>0</td>\n      <td>...</td>\n      <td>0</td>\n      <td>0</td>\n      <td>0</td>\n      <td>0</td>\n      <td>0</td>\n      <td>0</td>\n      <td>0</td>\n      <td>0</td>\n      <td>0</td>\n      <td>1</td>\n    </tr>\n  </tbody>\n</table>\n<p>6582 rows × 107 columns</p>\n</div>"
     },
     "metadata": {},
     "output_type": "display_data"
    }
   ],
   "source": [
    "datos = pd.read_csv('Salary_Data.csv')\n",
    "datos = pd.get_dummies(datos, columns=['Education Level', 'Job Title', 'Gender'], dtype=int)\n",
    "\n",
    "display(datos)"
   ],
   "metadata": {
    "collapsed": false
   }
  },
  {
   "cell_type": "markdown",
   "source": [
    "<div class=\"alert alert-info\">\n",
    "    <strong>Nota:</strong> He estado horas atascado creando las dummies, al crear los dummies por defecto los tipos se establecen a TRUE o FALSE, sin embargo nosotros solo trabajamos con números así que, después de horas averigué que solo había que castearlo a tipo int (dtype=int).\n",
    "\n",
    "</div>"
   ],
   "metadata": {
    "collapsed": false
   }
  },
  {
   "cell_type": "code",
   "execution_count": 136,
   "outputs": [],
   "source": [
    "y = datos['Salary']\n",
    "\n",
    "# Definir 'X' incluyendo todas las columnas de 'Education Level_*' y 'Years of Experience'\n",
    "# Filtrar las columnas que comienzan con 'Education Level_'\n",
    "education_columns = [col for col in datos if col.startswith('Education Level_')]\n",
    "job_columns = [col for col in datos if col.startswith('Job Title_')]\n",
    "gender_columns = [col for col in datos if col.startswith('Gender_')]\n",
    "\n",
    "X = sm.add_constant(datos[education_columns + ['Years of Experience'] + job_columns + ['Age'] + gender_columns])"
   ],
   "metadata": {
    "collapsed": false
   }
  },
  {
   "cell_type": "markdown",
   "source": [
    "## Estadísticos Descriptivos:"
   ],
   "metadata": {
    "collapsed": false
   }
  },
  {
   "cell_type": "code",
   "execution_count": 124,
   "outputs": [
    {
     "data": {
      "text/plain": "<Figure size 640x480 with 1 Axes>",
      "image/png": "[encoded data removed]"
     },
     "metadata": {},
     "output_type": "display_data"
    },
    {
     "name": "stdout",
     "output_type": "stream",
     "text": [
      "Q1:  70000.0 ($) Mediana: 115000.0 ($) Q3:  160000.0 ($) DT:  52673.91030849146 ($) Media: 115768.66575508963 ($)\n"
     ]
    }
   ],
   "source": [
    "media = np.mean(y)\n",
    "Q1 = np.quantile(y, 0.25)\n",
    "Q3 = np.quantile(y, 0.75)\n",
    "DesviacionTipica = np.std(y)\n",
    "Mediana = np.median(y)\n",
    "histograma = plt.hist(y, bins='auto', rwidth=0.85, density=True)\n",
    "plt.xlabel('y')\n",
    "plt.ylabel('Frecuencia')\n",
    "plt.title(\"Histograma de y (salary) ($)\")\n",
    "plt.show()\n",
    "print(\"Q1: \", Q1, \"($) Mediana:\", Mediana, \"($) Q3: \", Q3, \"($) DT: \", DesviacionTipica, \"($) Media:\", np.mean(y),\n",
    "      \"($)\")"
   ],
   "metadata": {
    "collapsed": false
   }
  },
  {
   "cell_type": "markdown",
   "source": [
    "1. Media: 115,395.57\n",
    "2. Primer Cuartil (Q1): 70,000.00\n",
    "3. Tercer Cuartil (Q3): 160,000.00\n",
    "4. Desviación Estándar: 52,723.3\n",
    "5. Mediana: 115,000.00"
   ],
   "metadata": {
    "collapsed": false
   }
  },
  {
   "cell_type": "code",
   "execution_count": 137,
   "outputs": [
    {
     "name": "stdout",
     "output_type": "stream",
     "text": [
      "                            OLS Regression Results                            \n",
      "==============================================================================\n",
      "Dep. Variable:                 Salary   R-squared:                       0.839\n",
      "Model:                            OLS   Adj. R-squared:                  0.837\n",
      "Method:                 Least Squares   F-statistic:                     328.4\n",
      "Date:                Sat, 09 Dec 2023   Prob (F-statistic):               0.00\n",
      "Time:                        18:06:00   Log-Likelihood:                -74882.\n",
      "No. Observations:                6582   AIC:                         1.500e+05\n",
      "Df Residuals:                    6478   BIC:                         1.507e+05\n",
      "Df Model:                         103                                         \n",
      "Covariance Type:            nonrobust                                         \n",
      "===================================================================================================================\n",
      "                                                      coef    std err          t      P>|t|      [0.025      0.975]\n",
      "-------------------------------------------------------------------------------------------------------------------\n",
      "const                                             1.99e+04   2322.360      8.568      0.000    1.53e+04    2.45e+04\n",
      "Education Level_Bachelor's Degree                5906.1209    900.543      6.558      0.000    4140.760    7671.482\n",
      "Education Level_High School                     -1.017e+04   1632.970     -6.228      0.000   -1.34e+04   -6968.503\n",
      "Education Level_Master's Degree                  1.163e+04    972.907     11.954      0.000    9722.738    1.35e+04\n",
      "Education Level_PhD                              1.253e+04   1278.636      9.801      0.000       1e+04     1.5e+04\n",
      "Years of Experience                              4626.4024    146.956     31.482      0.000    4338.320    4914.485\n",
      "Job Title_Back end Developer                     1.641e+04   1628.810     10.073      0.000    1.32e+04    1.96e+04\n",
      "Job Title_Content Marketing Manager              7774.8130   2651.283      2.932      0.003    2577.422     1.3e+04\n",
      "Job Title_Customer Service Representative       -1.693e+04   8793.769     -1.925      0.054   -3.42e+04     311.725\n",
      "Job Title_Customer Success Representative       -1.864e+04   2.11e+04     -0.884      0.377      -6e+04    2.27e+04\n",
      "Job Title_Data Analyst                           4.517e+04   1464.978     30.833      0.000    4.23e+04     4.8e+04\n",
      "Job Title_Data Scientist                         4.826e+04   1524.541     31.655      0.000    4.53e+04    5.12e+04\n",
      "Job Title_Delivery Driver                       -9005.9928   9662.151     -0.932      0.351   -2.79e+04    9935.015\n",
      "Job Title_Digital Marketing Manager               569.5049   3057.317      0.186      0.852   -5423.845    6562.855\n",
      "Job Title_Digital Marketing Specialist          -9589.1385   5537.694     -1.732      0.083   -2.04e+04    1266.571\n",
      "Job Title_Director of Data Science               5.445e+04   3092.807     17.606      0.000    4.84e+04    6.05e+04\n",
      "Job Title_Director of Engineering                 1.77e+04    1.5e+04      1.184      0.237   -1.16e+04     4.7e+04\n",
      "Job Title_Director of HR                          -95.1244   2706.385     -0.035      0.972   -5400.533    5210.285\n",
      "Job Title_Director of Marketing                  1.617e+04   2473.493      6.539      0.000    1.13e+04     2.1e+04\n",
      "Job Title_Director of Operations                 4204.5899   6212.797      0.677      0.499   -7974.544    1.64e+04\n",
      "Job Title_Financial Analyst                      7395.9465   3519.453      2.101      0.036     496.655    1.43e+04\n",
      "Job Title_Financial Manager                      3.283e+04   2058.724     15.947      0.000    2.88e+04    3.69e+04\n",
      "Job Title_Front End Developer                    4167.9053   3919.375      1.063      0.288   -3515.364    1.19e+04\n",
      "Job Title_Front end Developer                    8844.5538   1653.870      5.348      0.000    5602.422    1.21e+04\n",
      "Job Title_Full Stack Engineer                    2.296e+04   1533.157     14.974      0.000       2e+04     2.6e+04\n",
      "Job Title_Graphic Designer                      -1.374e+04   4609.829     -2.981      0.003   -2.28e+04   -4704.070\n",
      "Job Title_Human Resources Coordinator           -2.408e+04   3198.036     -7.530      0.000   -3.04e+04   -1.78e+04\n",
      "Job Title_Human Resources Manager                -349.0826   2297.844     -0.152      0.879   -4853.617    4155.451\n",
      "Job Title_Junior Accountant                     -2.303e+04   1.06e+04     -2.176      0.030   -4.38e+04   -2281.020\n",
      "Job Title_Junior Business Analyst               -2.097e+04   7525.207     -2.787      0.005   -3.57e+04   -6218.114\n",
      "Job Title_Junior Business Development Associate -2.572e+04   8028.599     -3.204      0.001   -4.15e+04   -9986.038\n",
      "Job Title_Junior Data Analyst                   -1.636e+04   4339.475     -3.770      0.000   -2.49e+04   -7852.953\n",
      "Job Title_Junior Financial Analyst              -1.973e+04   7519.697     -2.624      0.009   -3.45e+04   -4993.468\n",
      "Job Title_Junior HR Coordinator                  -1.94e+04   4197.954     -4.622      0.000   -2.76e+04   -1.12e+04\n",
      "Job Title_Junior HR Generalist                  -1.899e+04   2989.120     -6.354      0.000   -2.49e+04   -1.31e+04\n",
      "Job Title_Junior Marketing Analyst              -2.112e+04   1.22e+04     -1.730      0.084    -4.5e+04    2816.003\n",
      "Job Title_Junior Marketing Coordinator          -2.166e+04   8665.706     -2.499      0.012   -3.86e+04   -4667.414\n",
      "Job Title_Junior Marketing Manager              -1.427e+04   3107.718     -4.591      0.000   -2.04e+04   -8176.074\n",
      "Job Title_Junior Marketing Specialist           -1.613e+04   1.22e+04     -1.321      0.187   -4.01e+04    7803.403\n",
      "Job Title_Junior Operations Analyst             -2.215e+04   1.06e+04     -2.092      0.036   -4.29e+04   -1391.723\n",
      "Job Title_Junior Product Manager                -1.725e+04   1.06e+04     -1.630      0.103    -3.8e+04    3501.588\n",
      "Job Title_Junior Project Manager                -1.586e+04   1.49e+04     -1.062      0.288   -4.51e+04    1.34e+04\n",
      "Job Title_Junior Sales Associate                -1.633e+04   2763.460     -5.909      0.000   -2.17e+04   -1.09e+04\n",
      "Job Title_Junior Sales Representative           -1.663e+04   3590.085     -4.631      0.000   -2.37e+04   -9589.368\n",
      "Job Title_Junior Software Developer             -2.602e+04   2962.221     -8.785      0.000   -3.18e+04   -2.02e+04\n",
      "Job Title_Junior Software Engineer              -9847.5742   3123.585     -3.153      0.002    -1.6e+04   -3724.316\n",
      "Job Title_Junior Web Developer                  -1.921e+04   3360.212     -5.717      0.000   -2.58e+04   -1.26e+04\n",
      "Job Title_Juniour HR Coordinator                -9593.9629   1.24e+04     -0.777      0.437   -3.38e+04    1.46e+04\n",
      "Job Title_Juniour HR Generalist                 -5358.5091   1.51e+04     -0.356      0.722   -3.49e+04    2.41e+04\n",
      "Job Title_Marketing Analyst                     -6820.5627   2084.995     -3.271      0.001   -1.09e+04   -2733.283\n",
      "Job Title_Marketing Coordinator                 -5127.4626   1944.001     -2.638      0.008   -8938.347   -1316.578\n",
      "Job Title_Marketing Director                     5.455e+04   2870.698     19.002      0.000    4.89e+04    6.02e+04\n",
      "Job Title_Marketing Manager                      9337.9883   1644.415      5.679      0.000    6114.392    1.26e+04\n",
      "Job Title_Marketing Specialist                  -4.286e+04   2.11e+04     -2.032      0.042   -8.42e+04   -1502.066\n",
      "Job Title_Operations Manager                     -163.3357   2225.723     -0.073      0.942   -4526.487    4199.816\n",
      "Job Title_Product Designer                      -9417.4146   2648.096     -3.556      0.000   -1.46e+04   -4226.271\n",
      "Job Title_Product Manager                        4.584e+04   1521.599     30.126      0.000    4.29e+04    4.88e+04\n",
      "Job Title_Project Manager                        2.174e+04   4599.581      4.726      0.000    1.27e+04    3.08e+04\n",
      "Job Title_Receptionist                          -1.157e+04   3521.623     -3.285      0.001   -1.85e+04   -4665.032\n",
      "Job Title_Research Director                      4.577e+04   2807.826     16.302      0.000    4.03e+04    5.13e+04\n",
      "Job Title_Research Scientist                     4.436e+04   2893.040     15.334      0.000    3.87e+04       5e+04\n",
      "Job Title_Sales Associate                       -1.024e+04   3207.965     -3.191      0.001   -1.65e+04   -3949.102\n",
      "Job Title_Sales Director                         2.258e+04   2842.749      7.944      0.000     1.7e+04    2.82e+04\n",
      "Job Title_Sales Executive                       -1.057e+04   3751.304     -2.817      0.005   -1.79e+04   -3213.437\n",
      "Job Title_Sales Manager                          1.153e+04   2978.851      3.872      0.000    5693.564    1.74e+04\n",
      "Job Title_Sales Representative                  -1.993e+04   3552.522     -5.610      0.000   -2.69e+04    -1.3e+04\n",
      "Job Title_Senior Business Analyst                2430.0368   6727.211      0.361      0.718   -1.08e+04    1.56e+04\n",
      "Job Title_Senior Business Development Manager    6852.0796   1.06e+04      0.648      0.517   -1.39e+04    2.76e+04\n",
      "Job Title_Senior Data Analyst                     924.4573   1.22e+04      0.076      0.940   -2.31e+04    2.49e+04\n",
      "Job Title_Senior Data Engineer                   4023.8814    1.5e+04      0.269      0.788   -2.53e+04    3.33e+04\n",
      "Job Title_Senior Data Scientist                  3.128e+04   2890.436     10.821      0.000    2.56e+04    3.69e+04\n",
      "Job Title_Senior Engineer                       -9203.9945    1.5e+04     -0.615      0.538   -3.85e+04    2.01e+04\n",
      "Job Title_Senior Financial Advisor               1170.8114   1.22e+04      0.096      0.924   -2.28e+04    2.51e+04\n",
      "Job Title_Senior Financial Analyst               2250.0024   8020.263      0.281      0.779   -1.35e+04     1.8e+04\n",
      "Job Title_Senior Financial Manager               -302.1171   9472.624     -0.032      0.975   -1.89e+04    1.83e+04\n",
      "Job Title_Senior HR Generalist                  -1.058e+04   3420.906     -3.093      0.002   -1.73e+04   -3874.954\n",
      "Job Title_Senior HR Manager                      -351.2872   1.22e+04     -0.029      0.977   -2.43e+04    2.36e+04\n",
      "Job Title_Senior Human Resources Manager        -3187.1387   3182.209     -1.002      0.317   -9425.320    3051.043\n",
      "Job Title_Senior Marketing Analyst              -1.421e+04   7515.298     -1.891      0.059   -2.89e+04     520.655\n",
      "Job Title_Senior Marketing Manager              -2649.6975   6169.589     -0.429      0.668   -1.47e+04    9444.734\n",
      "Job Title_Senior Marketing Specialist           -1032.9052   1.06e+04     -0.098      0.922   -2.18e+04    1.97e+04\n",
      "Job Title_Senior Operations Analyst             -9194.2274   1.49e+04     -0.616      0.538   -3.85e+04    2.01e+04\n",
      "Job Title_Senior Operations Coordinator         -1297.8960   1.22e+04     -0.106      0.915   -2.52e+04    2.26e+04\n",
      "Job Title_Senior Operations Manager              1414.7320   1.06e+04      0.134      0.894   -1.93e+04    2.22e+04\n",
      "Job Title_Senior Product Designer                4573.7554   9518.970      0.480      0.631   -1.41e+04    2.32e+04\n",
      "Job Title_Senior Product Manager                 1.092e+04   9473.188      1.153      0.249   -7650.932    2.95e+04\n",
      "Job Title_Senior Product Marketing Manager       7525.7466   2716.729      2.770      0.006    2200.061    1.29e+04\n",
      "Job Title_Senior Project Coordinator            -1.941e+04   9472.163     -2.049      0.041    -3.8e+04    -838.606\n",
      "Job Title_Senior Project Engineer                3.144e+04   1580.314     19.894      0.000    2.83e+04    3.45e+04\n",
      "Job Title_Senior Project Manager                -4813.0470   8032.022     -0.599      0.549   -2.06e+04    1.09e+04\n",
      "Job Title_Senior Research Scientist              1.647e+04   3280.132      5.021      0.000       1e+04    2.29e+04\n",
      "Job Title_Senior Sales Manager                  -1.639e+04   1.49e+04     -1.097      0.273   -4.57e+04    1.29e+04\n",
      "Job Title_Senior Scientist                      -1448.9945    1.5e+04     -0.097      0.923   -3.08e+04    2.79e+04\n",
      "Job Title_Senior Software Developer               473.4700   1.22e+04      0.039      0.969   -2.35e+04    2.44e+04\n",
      "Job Title_Senior Software Engineer               2.002e+04   1707.176     11.728      0.000    1.67e+04    2.34e+04\n",
      "Job Title_Senior Training Specialist            -2.342e+04   2.11e+04     -1.110      0.267   -6.48e+04    1.79e+04\n",
      "Job Title_Senior UX Designer                     1.099e+04   1.22e+04      0.898      0.369    -1.3e+04     3.5e+04\n",
      "Job Title_Social Media Manager                  -1.179e+04   5540.924     -2.127      0.033   -2.26e+04    -924.408\n",
      "Job Title_Software Developer                    -5140.1242   2132.445     -2.410      0.016   -9320.422    -959.827\n",
      "Job Title_Software Engineer                       3.67e+04   1344.478     27.298      0.000    3.41e+04    3.93e+04\n",
      "Job Title_Software Engineer Manager              2.668e+04   1599.356     16.684      0.000    2.35e+04    2.98e+04\n",
      "Job Title_Software Project Manager              -7300.0912   2.11e+04     -0.346      0.729   -4.86e+04     3.4e+04\n",
      "Job Title_Web Developer                          -1.24e+04   2440.627     -5.079      0.000   -1.72e+04   -7612.671\n",
      "Age                                               583.1301    118.769      4.910      0.000     350.304     815.956\n",
      "Gender_Female                                    1.305e+04   1775.155      7.351      0.000    9569.129    1.65e+04\n",
      "Gender_Male                                      1.328e+04   1791.033      7.416      0.000    9770.813    1.68e+04\n",
      "Gender_Other                                    -6432.1436   4463.797     -1.441      0.150   -1.52e+04    2318.373\n",
      "==============================================================================\n",
      "Omnibus:                       97.368   Durbin-Watson:                   0.216\n",
      "Prob(Omnibus):                  0.000   Jarque-Bera (JB):              178.435\n",
      "Skew:                          -0.062   Prob(JB):                     1.79e-39\n",
      "Kurtosis:                       3.797   Cond. No.                     4.75e+16\n",
      "==============================================================================\n",
      "\n",
      "Notes:\n",
      "[1] Standard Errors assume that the covariance matrix of the errors is correctly specified.\n",
      "[2] The smallest eigenvalue is 3.7e-27. This might indicate that there are\n",
      "strong multicollinearity problems or that the design matrix is singular.\n"
     ]
    }
   ],
   "source": [
    "#np.asarray(education_columns)\n",
    "mco1 = sm.OLS(y, X).fit()\n",
    "print(mco1.summary())"
   ],
   "metadata": {
    "collapsed": false
   }
  },
  {
   "cell_type": "markdown",
   "source": [
    "Como vemos ya se nos está avisando de que puede haber problemas con la multicolinealidad, intentaremos solucionarlo más adelante cuando llegue el momento quizás con una depuración manual de los datos"
   ],
   "metadata": {
    "collapsed": false
   }
  },
  {
   "cell_type": "code",
   "execution_count": 119,
   "outputs": [],
   "source": [],
   "metadata": {
    "collapsed": false
   }
  },
  {
   "cell_type": "markdown",
   "source": [],
   "metadata": {
    "collapsed": false
   }
  }
 ],
 "metadata": {
  "kernelspec": {
   "display_name": "Python 3",
   "language": "python",
   "name": "python3"
  },
  "language_info": {
   "codemirror_mode": {
    "name": "ipython",
    "version": 2
   },
   "file_extension": ".py",
   "mimetype": "text/x-python",
   "name": "python",
   "nbconvert_exporter": "python",
   "pygments_lexer": "ipython2",
   "version": "2.7.6"
  }
 },
 "nbformat": 4,
 "nbformat_minor": 0
}
