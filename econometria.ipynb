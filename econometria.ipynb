{
 "cells": [
  {
   "cell_type": "markdown",
   "source": [
    "# Trabajo final Econometría\n",
    "## Estimador de salarios en puestos Tech de EEUU\n",
    "### Hecho por: Matthew Samuel Horne Negro, Francisco Javier Checa Casas y Pedro Castaño\n"
   ],
   "metadata": {
    "collapsed": false
   }
  },
  {
   "cell_type": "markdown",
   "source": [
    "# Primeros modelos econométricos"
   ],
   "metadata": {
    "collapsed": false
   }
  },
  {
   "cell_type": "markdown",
   "source": [
    "### 1"
   ],
   "metadata": {
    "collapsed": false
   }
  },
  {
   "cell_type": "code",
   "execution_count": null,
   "outputs": [],
   "source": [
    "import pandas as pd\n",
    "import statsmodels.api as sm\n",
    "import matplotlib.pylab as plt\n",
    "import numpy as np\n",
    "import statsmodels.stats.outliers_influence as oi\n",
    "import statsmodels.graphics.api as smg\n",
    "import statsmodels.stats.api as sms\n",
    "import statsmodels.stats.diagnostic as diagn #Para el test de Harvey-Collier\n"
   ],
   "metadata": {
    "collapsed": false
   }
  },
  {
   "cell_type": "markdown",
   "source": [
    "Me gusta tener todos los imports juntos por comodidad y no tener que estar repitiéndolos o ejecutando celdas específicas"
   ],
   "metadata": {
    "collapsed": false
   }
  },
  {
   "cell_type": "code",
   "execution_count": null,
   "outputs": [],
   "source": [
    "data = pd.read_csv('Salary_Data.csv')\n",
    "\n",
    "X = data.values[:, [0, 4]].astype(int)  # Age, Years of Experience\n",
    "Y = data.values[:, 5].astype(int)  # Salary\n",
    "\n",
    "results = sm.OLS(Y, sm.add_constant(X)).fit()\n",
    "\n",
    "print(results.summary())"
   ],
   "metadata": {
    "collapsed": false
   }
  },
  {
   "cell_type": "markdown",
   "source": [
    "**R-squared (R-cuadrado):**\n",
    "\n",
    "R-squared es una medida de la bondad de ajuste del modelo de regresión. En este caso, el valor es 0.665, lo que significa que aproximadamente el 66.5% de la variabilidad en la variable dependiente (y) puede ser explicada por las variables independientes (x1 y x2) incluidas en el modelo. Un R-cuadrado más alto indica un mejor ajuste del modelo a los datos. Este se alcanzará conforme vayamos haciendo más complejo el modelo e introduzcamos más variables clave como Job Title o Education.\n",
    "\n",
    "**Adj. R-squared (R-cuadrado ajustado):**\n",
    "\n",
    "El R-cuadrado ajustado es similar al R-cuadrado, pero tiene en cuenta el número de variables independientes en el modelo. En este caso, el valor es también 0.665, lo que sugiere que el ajuste del modelo es consistente con el número de variables independientes incluidas.\n",
    "\n",
    "**F-statistic (Estadístico F):**\n",
    "\n",
    "El estadístico F se utiliza para evaluar la significación conjunta de todas las variables independientes en el modelo. Un valor grande del estadístico F (en este caso, 6539) con un p-valor pequeño (0.00) sugiere que al menos una de las variables independientes es significativa en la explicación de la variabilidad en la variable dependiente.\n",
    "\n",
    "**Coeficientes:**\n",
    "\n",
    "Bajo la sección \"coef\", se observan los coeficientes estimados para las variables en el modelo. En este caso, hay tres coeficientes: uno para la constante (intercepto), otro para x1 y otro para x2. Estos coeficientes indican cuánto cambia la variable dependiente (y) por unidad de cambio en las variables independientes (x1 y x2).\n",
    "Por ejemplo, el coeficiente para x2 es 9044.7257, lo que significa que, manteniendo todas las demás variables constantes, ceteris paribus, un aumento de una unidad en x2 se asocia con un aumento de aproximadamente 9044.7257 unidades en la variable dependiente (y), es decir, que en este caso por cada 1 año de experiencia más (Years of experience = x2) aumenta 9044.7257$ el salario (Salary = y)\n",
    "\n",
    "**Estadísticas adicionales:**\n",
    "\n",
    "Se proporcionan varias estadísticas adicionales, como el estadístico Omnibus, Durbin-Watson, Jarque-Bera, Skew, Kurtosis, entre otros. Estas estadísticas pueden ayudar a evaluar suposiciones sobre el modelo y la normalidad de los errores residuales."
   ],
   "metadata": {
    "collapsed": false
   }
  },
  {
   "cell_type": "markdown",
   "source": [
    "<div class=\"alert alert-info\">\n",
    "    <strong>Nota:</strong> Al usar una base de datos con variables que son de tipo string para este primer modelo solo usaremos\n",
    "    variables numéricas y que han tenido que ser forzosamente convertidas a int porque si no, genera un error de tipos.\n",
    "    <br><br>\n",
    "    Más adelante habrá que convertir las variables categóricas en dummies para el correcto funcionamiento\n",
    "\n",
    "</div>"
   ],
   "metadata": {
    "collapsed": false
   }
  },
  {
   "cell_type": "markdown",
   "source": [
    "### 2"
   ],
   "metadata": {
    "collapsed": false
   }
  },
  {
   "cell_type": "code",
   "execution_count": null,
   "outputs": [],
   "source": [
    "n = 100\n",
    "\n",
    "X = np.random.normal(0, 10, n)\n",
    "Y = X + np.random.normal(0, 1, n)"
   ],
   "metadata": {
    "collapsed": false
   }
  },
  {
   "cell_type": "code",
   "execution_count": null,
   "outputs": [],
   "source": [
    "plt.scatter(X, Y, s=1)\n",
    "\n",
    "plt.show()"
   ],
   "metadata": {
    "collapsed": false
   }
  },
  {
   "cell_type": "code",
   "execution_count": null,
   "outputs": [],
   "source": [
    "results = sm.OLS(Y, sm.add_constant(X)).fit()\n",
    "\n",
    "print(results.summary())"
   ],
   "metadata": {
    "collapsed": false
   }
  },
  {
   "cell_type": "code",
   "execution_count": null,
   "outputs": [],
   "source": [
    "cte = results.params[0]\n",
    "beta1 = results.params[1]\n",
    "\n",
    "plt.plot([-20, 20], [cte + beta1 * (-20), cte + beta1 * 20], color='r')\n",
    "plt.scatter(X, Y, s=1)\n",
    "\n",
    "plt.show()"
   ],
   "metadata": {
    "collapsed": false
   }
  },
  {
   "cell_type": "markdown",
   "source": [
    "El código de los bloques realiza una simulación de datos y ajusta un modelo de regresión lineal a dichos datos.\n",
    "\n",
    "1. **Generación de Datos:** Se crean dos conjuntos de datos, X e Y, donde X son valores tomados de una distribución normal con una media de 0 y desviación estándar de 10, e Y es una función lineal de X más un término de error aleatorio normalmente distribuido. Esto simula una relación lineal entre X e Y con algo de ruido.\n",
    "\n",
    "2. **Visualización de Datos:** Se genera un gráfico de dispersión utilizando matplotlib para visualizar la relación entre X e Y. Cada punto representa una observación del conjunto de datos simulado.\n",
    "\n",
    "3. **Ajuste de Modelo de Regresión:** Se ajusta un modelo de regresión lineal ordinaria de mínimos cuadrados utilizando statsmodels con Y como variable dependiente y X como independiente. Se añade una constante al modelo para incluir un término de intercepto. Se imprime un resumen del modelo que proporciona detalles estadísticos del ajuste.\n",
    "\n",
    "4. **Visualización del Modelo de Regresión:** Se extraen el intercepto y la pendiente (coeficientes) del modelo ajustado y se utiliza para dibujar la línea de regresión sobre el gráfico de dispersión existente. La línea roja representa la relación estimada entre X e Y según el modelo de regresión."
   ],
   "metadata": {
    "collapsed": false
   }
  },
  {
   "cell_type": "markdown",
   "source": [
    "---"
   ],
   "metadata": {
    "collapsed": false
   }
  },
  {
   "cell_type": "markdown",
   "source": [
    "# Estimación e Inferencia en Modelos de Regresión Lineales"
   ],
   "metadata": {
    "collapsed": false
   }
  },
  {
   "cell_type": "markdown",
   "source": [
    "## Modelo 1"
   ],
   "metadata": {
    "collapsed": false
   }
  },
  {
   "cell_type": "code",
   "execution_count": null,
   "outputs": [],
   "source": [
    "# Reemplaza 'tu_archivo.csv' con el nombre de tu archivo CSV\n",
    "df = pd.read_csv('Salary_Data.csv')\n",
    "\n",
    "# Muestra información general sobre el DataFrame, como el tipo de datos y los valores no nulos\n",
    "#print(df.info())\n",
    "\n",
    "# Muestra estadísticas descriptivas de las variables numéricas\n",
    "print(df.describe())"
   ],
   "metadata": {
    "collapsed": false
   }
  },
  {
   "cell_type": "markdown",
   "source": [
    "1. **Count (Conteo):** Muestra el número total de entradas (no nulas) para cada variable.\n",
    "    - En este caso, hay 6582 entradas para cada una de las variables: Age (Edad), Years of Experience (Años de Experiencia) y Salary (Salario).\n",
    "\n",
    "2. **Mean (Media):** Es el promedio de los valores para cada variable.\n",
    "    - La edad promedio es aproximadamente 33.57 años.\n",
    "    - Los años de experiencia promedio son aproximadamente 8.07 años.\n",
    "    - El salario promedio es de aproximadamente 115,768.67 unidades monetarias ($).\n",
    "\n",
    "3. **Std (Desviación Estándar):** Mide la cantidad de variación o dispersión de un conjunto de valores.\n",
    "    - La desviación estándar de la edad es aproximadamente 7.6 años, lo que indica la variabilidad de la edad en el conjunto de datos.\n",
    "    - La desviación estándar de los años de experiencia es de aproximadamente 6.04 años.\n",
    "    - La desviación estándar del salario es de aproximadamente 52,677.91, indicando la variabilidad en los salarios.\n",
    "\n",
    "4. **Min (Mínimo):** Es el valor más bajo en cada columna.\n",
    "    - La edad mínima es de 21 años.\n",
    "    - El mínimo de años de experiencia es 0 (personas sin experiencia previa).\n",
    "    - El salario mínimo es de 25,000.\n",
    "\n",
    "5. **25% (Percentil 25):** Este es el valor por debajo del cual se encuentra el 25% de los datos.\n",
    "    - 25% de los empleados tienen 28 años o menos.\n",
    "    - 25% tienen 3 años o menos de experiencia.\n",
    "    - 25% ganan 70,000 o menos.\n",
    "\n",
    "6. **50% (Mediana o Percentil 50):** Es el valor medio, donde la mitad de los datos está por debajo de este valor y la otra mitad por encima.\n",
    "    - La mediana de la edad es de 32 años.\n",
    "    - La mediana de los años de experiencia es de 7 años.\n",
    "    - La mediana del salario es de 115,000.\n",
    "\n",
    "7. **75% (Percentil 75):** El valor por debajo del cual se encuentra el 75% de los datos.\n",
    "    - 75% de los empleados tienen 38 años o menos.\n",
    "    - 75% tienen 12 años o menos de experiencia.\n",
    "    - 75% ganan 160,000 o menos.\n",
    "\n",
    "8. **Max (Máximo):** Es el valor más alto en cada columna.\n",
    "    - La edad máxima es de 62 años.\n",
    "    - El máximo de años de experiencia es de 34 años.\n",
    "    - El salario máximo es de 250,000."
   ],
   "metadata": {
    "collapsed": false
   }
  },
  {
   "cell_type": "code",
   "execution_count": null,
   "outputs": [],
   "source": [
    "datos = pd.read_csv('Salary_Data.csv')\n",
    "datos = pd.get_dummies(datos, columns=['Education Level', 'Job Title', 'Gender'], dtype=int)\n",
    "\n",
    "display(datos)"
   ],
   "metadata": {
    "collapsed": false
   }
  },
  {
   "cell_type": "markdown",
   "source": [
    "<div class=\"alert alert-info\">\n",
    "    <strong>Nota:</strong> He estado horas atascado creando las dummies, al crear los dummies por defecto los tipos se establecen a TRUE o FALSE, sin embargo nosotros solo trabajamos con números así que, después de horas averigué que solo había que castearlo a tipo int (dtype=int).\n",
    "\n",
    "</div>"
   ],
   "metadata": {
    "collapsed": false
   }
  },
  {
   "cell_type": "code",
   "execution_count": null,
   "outputs": [],
   "source": [
    "y = datos['Salary']\n",
    "\n",
    "# Definir 'X' incluyendo todas las columnas de 'Education Level_*' y 'Years of Experience'\n",
    "# Filtrar las columnas que comienzan con 'Education Level_'\n",
    "education_columns = [col for col in datos if col.startswith('Education Level_')]\n",
    "job_columns = [col for col in datos if col.startswith('Job Title_')]\n",
    "gender_columns = [col for col in datos if col.startswith('Gender_')]\n",
    "\n",
    "X = sm.add_constant(datos[education_columns + ['Years of Experience'] + job_columns + ['Age'] + gender_columns])"
   ],
   "metadata": {
    "collapsed": false
   }
  },
  {
   "cell_type": "markdown",
   "source": [
    "## Estadísticos Descriptivos:"
   ],
   "metadata": {
    "collapsed": false
   }
  },
  {
   "cell_type": "code",
   "execution_count": null,
   "outputs": [],
   "source": [
    "media = np.mean(y)\n",
    "Q1 = np.quantile(y, 0.25)\n",
    "Q3 = np.quantile(y, 0.75)\n",
    "DesviacionTipica = np.std(y)\n",
    "Mediana = np.median(y)\n",
    "histograma = plt.hist(y, bins='auto', rwidth=0.85, density=True)\n",
    "plt.xlabel('y')\n",
    "plt.ylabel('Frecuencia')\n",
    "plt.title(\"Histograma de y (salary) ($)\")\n",
    "plt.show()\n",
    "print(\"Q1: \", Q1, \"($) Mediana:\", Mediana, \"($) Q3: \", Q3, \"($) DT: \", DesviacionTipica, \"($) Media:\", np.mean(y),\n",
    "      \"($)\")"
   ],
   "metadata": {
    "collapsed": false
   }
  },
  {
   "cell_type": "markdown",
   "source": [
    "1. Media: 115,768.67\n",
    "2. Primer Cuartil (Q1): 70,000.00\n",
    "3. Tercer Cuartil (Q3): 160,000.00\n",
    "4. Desviación Estándar: 52,673.91\n",
    "5. Mediana: 115,000.00"
   ],
   "metadata": {
    "collapsed": false
   }
  },
  {
   "cell_type": "code",
   "execution_count": null,
   "outputs": [],
   "source": [
    "#np.asarray(education_columns)\n",
    "mco1 = sm.OLS(y, X).fit()\n",
    "print(mco1.summary())"
   ],
   "metadata": {
    "collapsed": false
   }
  },
  {
   "cell_type": "markdown",
   "source": [
    "<div class=\"alert alert-info\">\n",
    "    <strong>Nota:</strong> Como vemos ya se nos está avisando de que puede haber problemas con la multicolinealidad, intentaremos solucionarlo más adelante cuando llegue el momento quizás con una depuración manual de los datos o utilizar técnicas como el factor de inflación de la varianza (VIF) para identificar y posiblemente eliminar variables independientes que estén altamente correlacionadas.\n",
    "\n",
    "</div>"
   ],
   "metadata": {
    "collapsed": false
   }
  },
  {
   "cell_type": "markdown",
   "source": [
    "## Interpretación de los resultados\n",
    "\n",
    "#### Medidas de Bondad de Ajuste:\n",
    "\n",
    "- **R-squared (R-cuadrado):**\n",
    "    El valor es 0.839, lo que indica que aproximadamente el 83.9% de la variabilidad en el salario se puede explicar con el modelo. Es una medida bastante alta de bondad de ajuste considerando que estamos tratando de estimar salarios.\n",
    "\n",
    "- **Adjusted R-squared (R-cuadrado ajustado):**\n",
    "    Con un valor de 0.837, después de ajustar por el número de predictores, sigue siendo muy alto, lo que indica que el modelo se ajusta bien a los datos.\n",
    "\n",
    "- **F-statistic (Estadístico F):**\n",
    "    Con un valor de 328.4 y un Prob (F-statistic) cercano a 0, sugiere que el modelo es estadísticamente significativo en su conjunto, es decir, hay evidencia de que al menos una de las variables independientes está relacionada con el salario.\n",
    "\n",
    "#### Diagnóstico de Residuos:\n",
    "- **Omnibus:**\n",
    "    El valor del test estadístico es 97.368, que es bastante alto. Este resultado sugiere que hay una fuerte evidencia estadística de que los residuos no se distribuyen normalmente.\n",
    "\n",
    "- **Prob(Omnibus):**\n",
    "    El valor p asociado con el estadístico Omnibus es 0.000. Un valor p tan bajo (generalmente se considera significativo si es menor que 0.05) indica que podemos rechazar la hipótesis nula de que los residuos tienen una distribución normal. Esto significa que hay una alta probabilidad de que los residuos no sigan una distribución normal.\n",
    "\n",
    "- **Durbin-Watson:**\n",
    "    El valor es 0.216, que está muy por debajo de 2, sugiriendo la presencia de autocorrelación positiva entre los residuos, lo que podría ser un problema, ya que los residuos de un modelo bien ajustado deben ser independientes entre sí.\n",
    "\n",
    "- **Jarque-Bera (JB) y Prob(JB):**\n",
    "    -El valor del estadístico JB es 178.435 y el valor p es extremadamente pequeño, indicando que los residuos no siguen una distribución normal, lo cual es una violación de uno de los supuestos de la regresión OLS.\n",
    "\n",
    "- **Skew (Asimetría):**\n",
    "    El valor de -0.062 indica que la distribución de los residuos es ligeramente asimétrica, pero no es una preocupación mayor dado que está cerca de cero.\n",
    "\n",
    "- **Kurtosis:**\n",
    "    Un valor de 3.797 sugiere que la distribución de los residuos tiene colas más pesadas que una distribución normal, lo cual podría ser una señal de outliers o de un pico más pronunciado.\n",
    "\n",
    "- **Cond. No. (Número de Condición):**\n",
    "    El valor es extremadamente alto (4.75e+16), lo que indica la presencia de multicolinealidad entre las variables predictoras. Esto significa que algunas de las variables independientes están altamente correlacionadas entre sí, lo que puede inflar los errores estándar de los coeficientes y hacer que las estimaciones sean inestables.interpret\n"
   ],
   "metadata": {
    "collapsed": false
   }
  },
  {
   "cell_type": "code",
   "execution_count": null,
   "outputs": [],
   "source": [
    "beta2 = mco1.params\n",
    "plt.plot(datos['Years of Experience'], y, 'o', color='r')\n",
    "xmin = np.min(datos['Years of Experience'])\n",
    "xmax = np.max(datos['Years of Experience'])\n",
    "# Use iloc to access positions in the beta2 series\n",
    "plt.plot([xmin, xmax], [beta2.iloc[0] + beta2.iloc[1] * xmin, beta2.iloc[0] + beta2.iloc[1] * xmax])\n",
    "plt.show()\n"
   ],
   "metadata": {
    "collapsed": false
   }
  },
  {
   "cell_type": "code",
   "execution_count": null,
   "outputs": [],
   "source": [
    "print(sm.graphics.plot_regress_exog(mco1, 'Years of Experience'))"
   ],
   "metadata": {
    "collapsed": false
   }
  },
  {
   "cell_type": "code",
   "execution_count": null,
   "outputs": [],
   "source": [
    "e=mco1.resid\n",
    "print(e)\n",
    "print(np.mean(e))"
   ],
   "metadata": {
    "collapsed": false
   }
  },
  {
   "cell_type": "markdown",
   "source": [
    "El valor obtenido sugiere que, en promedio, el modelo subestima ligeramente el valor real. Sin embargo, en el contexto de los modelos de regresión, un promedio de residuos de aproximadamente -5.7624e-10 podría considerarse insignificante, especialmente si la escala de la variable de respuesta (salario en este caso) es grande, como en decenas o cientos de miles. Este resultado es una señal de que el modelo está bien calibrado en términos de no tener un sesgo sistemático hacia sobreestimaciones o subestimaciones en las predicciones."
   ],
   "metadata": {
    "collapsed": false
   }
  },
  {
   "cell_type": "markdown",
   "source": [
    "- Suma de Cuadrados Totales (SCT)"
   ],
   "metadata": {
    "collapsed": false
   }
  },
  {
   "cell_type": "code",
   "execution_count": null,
   "outputs": [],
   "source": [
    "print(mco1.centered_tss)"
   ],
   "metadata": {
    "collapsed": false
   }
  },
  {
   "cell_type": "markdown",
   "source": [
    "Representa la variabilidad total en la variable dependiente. Es igual a la suma de las diferencias al cuadrado entre cada valor observado y la media de todos los valores observados. Un valor de 18262027724544.66 indica el total de variabilidad en tu variable dependiente que el modelo busca explicar."
   ],
   "metadata": {
    "collapsed": false
   }
  },
  {
   "cell_type": "markdown",
   "source": [
    "- Suma de Cuadrados Explicada (SCE)"
   ],
   "metadata": {
    "collapsed": false
   }
  },
  {
   "cell_type": "code",
   "execution_count": null,
   "outputs": [],
   "source": [
    "print(mco1.ess)"
   ],
   "metadata": {
    "collapsed": false
   }
  },
  {
   "cell_type": "markdown",
   "source": [
    "Representa la variabilidad en la variable dependiente que es explicada por el modelo. Es igual a la suma de las diferencias al cuadrado entre los valores predichos por el modelo y la media de la variable dependiente. Un valor de 15326748750986.516 sugiere que esta es la cantidad de variabilidad que el modelo ha logrado explicar."
   ],
   "metadata": {
    "collapsed": false
   }
  },
  {
   "cell_type": "markdown",
   "source": [
    "- Suma de Cuadrados de los residuos (SCR)"
   ],
   "metadata": {
    "collapsed": false
   }
  },
  {
   "cell_type": "code",
   "execution_count": null,
   "outputs": [],
   "source": [
    "print(mco1.ssr)"
   ],
   "metadata": {
    "collapsed": false
   }
  },
  {
   "cell_type": "markdown",
   "source": [
    "Representa la variabilidad en la variable dependiente que no es explicada por el modelo. Es igual a la suma de los cuadrados de los residuos (errores) del modelo. Un valor de 2935278973558.1436 indica la cantidad de variabilidad que el modelo no ha podido explicar."
   ],
   "metadata": {
    "collapsed": false
   }
  },
  {
   "cell_type": "markdown",
   "source": [
    "- $R^2$ y $R^2$ ajustado"
   ],
   "metadata": {
    "collapsed": false
   }
  },
  {
   "cell_type": "code",
   "execution_count": null,
   "outputs": [],
   "source": [
    "print(\"R2: \", mco1.rsquared)\n",
    "print(\"R2 Ajustado: \", mco1.rsquared_adj)"
   ],
   "metadata": {
    "collapsed": false
   }
  },
  {
   "cell_type": "markdown",
   "source": [
    "R-cuadrado ($R^2$): Es una medida de la bondad de ajuste del modelo. Un valor de 0.8392687264616815(o aproximadamente 83.93%) significa que aproximadamente el 83.93% de la variabilidad en la variable dependiente es explicada por las variables independientes en el modelo.\n",
    "\n",
    "R-cuadrado ajustado: Es una versión ajustada del R-cuadrado que tiene en cuenta el número de predictores en el modelo. Un valor de 0.8367131041747956 es bastante similar al R-cuadrado, lo que indica que el modelo es robusto incluso después de ajustar por el número de variables."
   ],
   "metadata": {
    "collapsed": false
   }
  },
  {
   "cell_type": "markdown",
   "source": [
    "- Valor ( F<sub>exp</sub> ): Valor F experimental\n",
    "- Valor ( F<sub>teo</sub> ): Valor F teórico\n"
   ],
   "metadata": {
    "collapsed": false
   }
  },
  {
   "cell_type": "code",
   "execution_count": null,
   "outputs": [],
   "source": [
    "Fexp=mco1.fvalue\n",
    "print(Fexp)\n",
    "from scipy import stats\n",
    "alpha=0.025\n",
    "Fteo= stats.f.ppf(1-alpha, mco1.df_model, mco1.df_resid)\n",
    "print(Fteo)"
   ],
   "metadata": {
    "collapsed": false
   }
  },
  {
   "cell_type": "markdown",
   "source": [
    "Valor F experimental (Fexp): Es el valor calculado de la estadística F para el modelo. Un valor de 328.40092636864495 es bastante alto, lo que sugiere que el modelo es estadísticamente significativo.\n",
    "\n",
    "Valor F teórico (Fteo): Es el valor crítico de la distribución F para un cierto nivel de significancia y grados de libertad. Un valor de 1.2941958816630579 es el umbral sobre el cual se consideraría que el modelo tiene una contribución significativa."
   ],
   "metadata": {
    "collapsed": false
   }
  },
  {
   "cell_type": "markdown",
   "source": [
    "- Valor ( t<sub>exp</sub> ): Valor t experimental\n",
    "- Valor ( t<sub>teo</sub> ): Valor t teórico"
   ],
   "metadata": {
    "collapsed": false
   }
  },
  {
   "cell_type": "code",
   "execution_count": null,
   "outputs": [],
   "source": [
    "texp=mco1.tvalues\n",
    "print(texp)\n",
    "alpha=0.098\n",
    "tteo= stats.t.ppf(1-(alpha/2),mco1.df_resid)\n",
    "print(tteo)"
   ],
   "metadata": {
    "collapsed": false
   }
  },
  {
   "cell_type": "markdown",
   "source": [
    "\n",
    "Valor t Experimental (Valor t de la Prueba): Este valor es el resultado de una prueba t aplicada a un estimador, como un coeficiente en un modelo de regresión. Se calcula como el coeficiente estimado dividido por el error estándar de ese coeficiente. En el contexto de la regresión, indica cuántas desviaciones estándar el estimador está lejos de 0. Un valor t alto (en valor absoluto) sugiere que es menos probable que el verdadero valor del parámetro sea 0, lo que implica que la variable correspondiente es significativa en el modelo.\n",
    "\n",
    "Valor t Teórico (Valor t Crítico): Se utiliza como umbral para decidir si rechazar la hipótesis nula. Si el valor t experimental es mayor en valor absoluto que el valor t teórico, se rechaza la hipótesis nula (por ejemplo, que un coeficiente es igual a cero en la regresión)."
   ],
   "metadata": {
    "collapsed": false
   }
  },
  {
   "cell_type": "markdown",
   "source": [
    "- Intervalos de confianza de Estimadores"
   ],
   "metadata": {
    "collapsed": false
   }
  },
  {
   "cell_type": "code",
   "execution_count": null,
   "outputs": [],
   "source": [
    "print(mco1.conf_int(0.075))"
   ],
   "metadata": {
    "collapsed": false
   }
  },
  {
   "cell_type": "markdown",
   "source": [
    "Un intervalo de confianza ofrece un rango de valores dentro del cual se espera que se encuentre el verdadero valor del parámetro, con un cierto nivel de confianza.\n",
    "En la regresión, cada coeficiente tiene un intervalo de confianza asociado. Si un intervalo de confianza para un coeficiente no incluye el 0, esto sugiere que la variable correspondiente es significativamente diferente de 0, lo que implica que tiene un efecto significativo en la variable dependiente."
   ],
   "metadata": {
    "collapsed": false
   }
  },
  {
   "cell_type": "markdown",
   "source": [
    "- Estimación de la varianza de la pertrubación:"
   ],
   "metadata": {
    "collapsed": false
   }
  },
  {
   "cell_type": "code",
   "execution_count": null,
   "outputs": [],
   "source": [
    "beta3=np.array(mco1.params)\n",
    "e =mco1.resid\n",
    "sum(e**2)/(mco1.nobs-1)\n",
    "sigmagorro=(np.dot(y.values, y.values)-np.dot(beta3.T, np.dot(X.values.T,y.values)))/(mco1.nobs-1)\n",
    "\n",
    "print(sigmagorro)"
   ],
   "metadata": {
    "collapsed": false
   }
  },
  {
   "cell_type": "markdown",
   "source": [
    "Un valor bajo indica que el modelo explica una gran parte de la variabilidad, mientras que un valor alto sugiere que hay más factores no capturados que influyen en los salarios.\n",
    "En nuestro caso vemos que el valor es alto y que los residuos no se distribuyen normalmente, puede ser necesario transformar las variables, agregar términos al modelo o utilizar otro tipo de modelo de regresión que no requiera la normalidad de los residuos."
   ],
   "metadata": {
    "collapsed": false
   }
  },
  {
   "cell_type": "markdown",
   "source": [
    "---"
   ],
   "metadata": {
    "collapsed": false
   }
  },
  {
   "cell_type": "markdown",
   "source": [
    "# Multicolinealidad"
   ],
   "metadata": {
    "collapsed": false
   }
  },
  {
   "cell_type": "markdown",
   "source": [
    "Como hemos visto anteriormente nuestro modelo actual tiene un problema de multicolinealidad que trataremos de solucionar ahora. Refresquemos la memoria:"
   ],
   "metadata": {
    "collapsed": false
   }
  },
  {
   "cell_type": "code",
   "execution_count": null,
   "outputs": [],
   "source": [
    "print(mco1.summary())"
   ],
   "metadata": {
    "collapsed": false
   }
  },
  {
   "cell_type": "markdown",
   "source": [
    "Y como hemos mencionado nos advierte de posible multicolinealidad"
   ],
   "metadata": {
    "collapsed": false
   }
  },
  {
   "cell_type": "code",
   "execution_count": null,
   "outputs": [],
   "source": [
    "print(mco1.condition_number) #Número de Condición"
   ],
   "metadata": {
    "collapsed": false
   }
  },
  {
   "cell_type": "markdown",
   "source": [
    "Un número de condición alto sugiere una posible multicolinealidad en los datos, lo que significa que al menos una de las variables predictoras es casi una combinación lineal de las otras. Esto puede llevar a problemas en la estimación de los coeficientes del modelo, ya que pequeños cambios en los datos o en el modelo pueden resultar en grandes cambios en los coeficientes estimados. En términos prácticos, un número de condición alto puede hacer que los resultados de la regresión sean poco fiables.\n",
    "\n",
    "En términos generales:\n",
    "\n",
    "Un número de condición cercano a 1 indica un problema bien condicionado (bajo riesgo de multicolinealidad).\n",
    "Un número de condición moderadamente alto (valores de miles o decenas de miles) puede ser motivo de cierta preocupación y merece una investigación más detallada.\n",
    "Un número de condición muy alto (valores en los cientos de miles o más) sugiere un alto grado de multicolinealidad y un problema potencialmente mal condicionado.\n",
    "\n",
    "En nuestro caso vemos como este es un número enorme, posiblemente debido a los dummies que al crear 200 variables distintas produzcan este error.\n",
    "Por ello vamos a emplear técnicas como el factor de inflación de la varianza (VIF) para identificar y posiblemente eliminar variables independientes que estén altamente correlacionadas."
   ],
   "metadata": {
    "collapsed": false
   }
  },
  {
   "cell_type": "code",
   "execution_count": null,
   "outputs": [],
   "source": [
    "datos = pd.read_csv('Salary_Data.csv')\n",
    "datos = pd.get_dummies(datos, columns=['Education Level', 'Job Title', 'Gender'], dtype=int)\n",
    "\n",
    "display(datos)"
   ],
   "metadata": {
    "collapsed": false
   }
  },
  {
   "cell_type": "code",
   "execution_count": null,
   "outputs": [],
   "source": [
    "y = datos['Salary']\n",
    "\n",
    "# Definir 'X' incluyendo todas las columnas de 'Education Level_*' y 'Years of Experience'\n",
    "# Filtrar las columnas que comienzan con 'Education Level_'\n",
    "education_columns = [col for col in datos if col.startswith('Education Level_')]\n",
    "job_columns = [col for col in datos if col.startswith('Job Title_')]\n",
    "gender_columns = [col for col in datos if col.startswith('Gender_')]\n",
    "\n",
    "X = sm.add_constant(datos[education_columns + ['Years of Experience'] + job_columns + ['Age'] + gender_columns])"
   ],
   "metadata": {
    "collapsed": false
   }
  },
  {
   "cell_type": "code",
   "execution_count": null,
   "outputs": [],
   "source": [
    "vifs=[oi.variance_inflation_factor(X.values, i) for i in range(X.shape[1])]\n",
    "print(vifs)"
   ],
   "metadata": {
    "collapsed": false
   }
  },
  {
   "cell_type": "markdown",
   "source": [
    "Observamos el warning \"RuntimeWarning: divide by zero encountered in scalar divide\" sugiere que en el cálculo de algún VIF, se está intentando dividir por cero. Esto suele suceder cuando una de las variables independientes en el modelo de regresión es una combinación lineal perfecta de otras variables independientes, o tiene una varianza extremadamente baja que está causando problemas numéricos.\n",
    "\n",
    "Los valores de VIF se muestran en la salida, y muchos de ellos son inf, que significa infinito. Un valor de VIF infinito indica una multicolinealidad perfecta, lo que significa que algunas variables predictoras pueden ser exactamente predichas a partir de otras variables predictoras en el modelo sin error."
   ],
   "metadata": {
    "collapsed": false
   }
  },
  {
   "cell_type": "code",
   "execution_count": null,
   "outputs": [],
   "source": [
    "corr_matrix=np.corrcoef(X.T)\n",
    "print(corr_matrix)"
   ],
   "metadata": {
    "collapsed": false
   }
  },
  {
   "cell_type": "code",
   "execution_count": null,
   "outputs": [],
   "source": [
    "smg.plot_corr(corr_matrix, X)\n",
    "plt.show()"
   ],
   "metadata": {
    "collapsed": false
   }
  },
  {
   "cell_type": "markdown",
   "source": [
    "Es bastante evidente cuál podría ser el primer remedio para este problema... Reducir el número de variables, esto se conseguirá estudiando que variables no tienen relevancia para eliminarlas y agrupando las que sí sean positivas para el modelo.\n",
    "\n",
    "Hagamos una primera prueba muy sencilla solo añadiendo drop_first=True a la hora de crear los dummies para eliminar la primera columna"
   ],
   "metadata": {
    "collapsed": false
   }
  },
  {
   "cell_type": "code",
   "execution_count": null,
   "outputs": [],
   "source": [
    "datos = pd.read_csv('Salary_Data.csv')\n",
    "datos = pd.get_dummies(datos, columns=['Education Level', 'Job Title', 'Gender'], drop_first=True, dtype=int)\n",
    "y = datos['Salary']\n",
    "# Definir 'X' incluyendo todas las columnas de 'Education Level_*' y 'Years of Experience'\n",
    "# Filtrar las columnas que comienzan con 'Education Level_'\n",
    "education_columns = [col for col in datos if col.startswith('Education Level_')]\n",
    "job_columns = [col for col in datos if col.startswith('Job Title_')]\n",
    "gender_columns = [col for col in datos if col.startswith('Gender_')]\n",
    "\n",
    "X = sm.add_constant(datos[education_columns + ['Years of Experience'] + job_columns + ['Age'] + gender_columns])\n",
    "\n",
    "mco1 = sm.OLS(y, X).fit()\n",
    "print(mco1.summary())"
   ],
   "metadata": {
    "collapsed": false
   }
  },
  {
   "cell_type": "code",
   "execution_count": null,
   "outputs": [],
   "source": [
    "print(mco1.condition_number) #Número de Condición"
   ],
   "metadata": {
    "collapsed": false
   }
  },
  {
   "cell_type": "markdown",
   "source": [
    "Simplemente con ese paso previo hemos pasado de un Número de Condición = (4.75e+16) que tenía nuestro modelo original a un Número de Condición = (2.94e+03)\n",
    "\n",
    "Y volvemos a ejecutar la técnica VIFs"
   ],
   "metadata": {
    "collapsed": false
   }
  },
  {
   "cell_type": "code",
   "execution_count": null,
   "outputs": [],
   "source": [
    "vifs=[oi.variance_inflation_factor(X.values, i) for i in range(X.shape[1])]\n",
    "print(vifs)"
   ],
   "metadata": {
    "collapsed": false
   }
  },
  {
   "cell_type": "markdown",
   "source": [
    "Como podemos ver ya prácticamente todas las variables están cerca del valor 1 que como hemos visto indica un problema bien condicionado (bajo riesgo de multicolinealidad).\n",
    "\n",
    "Pero podemos seguir depurándolo. Si nos fijamos hay 2 variables en concreto que resaltan más que las demás, la primera con valor aproximado de 148.191 y la antepenúltima con valor aproximado de 11.852499\n",
    "\n",
    "Viendo esto y además con un poco de sentido común podemos razonar que a la hora de estimar salarios tanto la edad como el género de la persona no debería de ser un factor influyente en el resultado así que eliminemos esas 2 variables y veamos que pasa."
   ],
   "metadata": {
    "collapsed": false
   }
  },
  {
   "cell_type": "code",
   "execution_count": null,
   "outputs": [],
   "source": [
    "X = sm.add_constant(datos[education_columns + ['Years of Experience'] + job_columns])\n",
    "\n",
    "mco1 = sm.OLS(y, X).fit()\n",
    "print(mco1.summary())"
   ],
   "metadata": {
    "collapsed": false
   }
  },
  {
   "cell_type": "code",
   "execution_count": null,
   "outputs": [],
   "source": [
    "print(mco1.condition_number) #Número de Condición"
   ],
   "metadata": {
    "collapsed": false
   }
  },
  {
   "cell_type": "markdown",
   "source": [
    "Efectivamente, al eliminar variables que no tienen relación con el salario el Número de Condición = (2.94e+03) que tenía nuestro modelo con Edad y Género se ha reducidoa tan solo un Número de Condición = 834 sin sacrificar la medida de bondad R^2^\n",
    "\n",
    "Ya no nos advierte de que pueda haber problemas de multicolinealidad, pero probemos a reducir el número de variables agrupando elementos de la variable Job Title por sectores, esto puede llevar a estimaciones más imprecisas al tener datos más generales de cada ámbito pero probemos a ver que Número de Condición resultaría."
   ],
   "metadata": {
    "collapsed": false
   }
  },
  {
   "cell_type": "code",
   "execution_count": null,
   "outputs": [],
   "source": [
    "datos = pd.read_csv('Salary_Data - Copy.csv')\n",
    "datos = pd.get_dummies(datos, columns=['Education Level', 'Job Title', 'Gender'], drop_first=True, dtype=int)\n",
    "y = datos['Salary']\n",
    "# Definir 'X' incluyendo todas las columnas de 'Education Level_*' y 'Years of Experience'\n",
    "# Filtrar las columnas que comienzan con 'Education Level_'\n",
    "education_columns = [col for col in datos if col.startswith('Education Level_')]\n",
    "job_columns = [col for col in datos if col.startswith('Job Title_')]\n",
    "gender_columns = [col for col in datos if col.startswith('Gender_')]\n",
    "\n",
    "X = sm.add_constant(datos[education_columns + ['Years of Experience'] + job_columns])\n",
    "\n",
    "mco2 = sm.OLS(y, X).fit()\n",
    "print(mco2.summary())"
   ],
   "metadata": {
    "collapsed": false
   }
  },
  {
   "cell_type": "code",
   "execution_count": null,
   "outputs": [],
   "source": [
    "vifs=[oi.variance_inflation_factor(X.values, i) for i in range(X.shape[1])]\n",
    "print(vifs)"
   ],
   "metadata": {
    "collapsed": false
   }
  },
  {
   "cell_type": "code",
   "execution_count": null,
   "outputs": [],
   "source": [
    "corr_matrix=np.corrcoef(X.T)\n",
    "print(corr_matrix)"
   ],
   "metadata": {
    "collapsed": false
   }
  },
  {
   "cell_type": "code",
   "execution_count": null,
   "outputs": [],
   "source": [
    "smg.plot_corr(corr_matrix, X)\n",
    "plt.show()"
   ],
   "metadata": {
    "collapsed": false
   }
  },
  {
   "cell_type": "markdown",
   "source": [
    "Como vemos la única ventaja relevante es la reducción a la mitad del factor Omnibus lo cual nos indica que nos estamos acercando más a una distribución normal de los residuos, pero esto no compensa la perdida dl índice de bondad $R^2$ tan elevado así que trataremos el problema de la heteroscedasticidad presente en el siguiente apartado."
   ],
   "metadata": {
    "collapsed": false
   }
  },
  {
   "cell_type": "markdown",
   "source": [
    "# Heteroscedatiscidad"
   ],
   "metadata": {
    "collapsed": false
   }
  },
  {
   "cell_type": "markdown",
   "source": [
    "Anteriormente hemos solucionado el problema de la multicolinealidad, sin embargo al ejecutar nuestro modelo se nos seguía advirtiendo y se deduce el alto valor de la variable Omnibus que la distribución de los residuos no es normal, esto es un problema de heteroscedasticidad que trataremos ahora."
   ],
   "metadata": {
    "collapsed": false
   }
  },
  {
   "cell_type": "code",
   "execution_count": 564,
   "outputs": [
    {
     "name": "stdout",
     "output_type": "stream",
     "text": [
      "                            OLS Regression Results                            \n",
      "==============================================================================\n",
      "Dep. Variable:                 Salary   R-squared:                       0.838\n",
      "Model:                            OLS   Adj. R-squared:                  0.836\n",
      "Method:                 Least Squares   F-statistic:                     336.1\n",
      "Date:                Mon, 11 Dec 2023   Prob (F-statistic):               0.00\n",
      "Time:                        22:35:43   Log-Likelihood:                -74901.\n",
      "No. Observations:                6582   AIC:                         1.500e+05\n",
      "Df Residuals:                    6481   BIC:                         1.507e+05\n",
      "Df Model:                         100                                         \n",
      "Covariance Type:            nonrobust                                         \n",
      "===================================================================================================================\n",
      "                                                      coef    std err          t      P>|t|      [0.025      0.975]\n",
      "-------------------------------------------------------------------------------------------------------------------\n",
      "const                                            6.955e+04   1451.367     47.923      0.000    6.67e+04    7.24e+04\n",
      "Education Level_High School                     -1.876e+04   2045.676     -9.170      0.000   -2.28e+04   -1.47e+04\n",
      "Education Level_Master's Degree                  6066.2085    816.620      7.428      0.000    4465.363    7667.054\n",
      "Education Level_PhD                              8105.9191   1217.548      6.658      0.000    5719.122    1.05e+04\n",
      "Years of Experience                              5253.0684     65.912     79.698      0.000    5123.859    5382.278\n",
      "Job Title_Content Marketing Manager             -7490.3263   2871.614     -2.608      0.009   -1.31e+04   -1861.014\n",
      "Job Title_Customer Service Representative        -3.11e+04   8959.873     -3.470      0.001   -4.87e+04   -1.35e+04\n",
      "Job Title_Customer Success Representative       -3.481e+04   2.14e+04     -1.627      0.104   -7.67e+04    7124.952\n",
      "Job Title_Data Analyst                           2.816e+04   1776.681     15.850      0.000    2.47e+04    3.16e+04\n",
      "Job Title_Data Scientist                         3.057e+04   1892.863     16.150      0.000    2.69e+04    3.43e+04\n",
      "Job Title_Delivery Driver                        -2.28e+04   9832.997     -2.318      0.020   -4.21e+04   -3519.999\n",
      "Job Title_Digital Marketing Manager             -1.575e+04   3264.252     -4.826      0.000   -2.22e+04   -9352.721\n",
      "Job Title_Digital Marketing Specialist          -2.548e+04   5687.850     -4.480      0.000   -3.66e+04   -1.43e+04\n",
      "Job Title_Director of Data Science               3.769e+04   3353.347     11.240      0.000    3.11e+04    4.43e+04\n",
      "Job Title_Director of Engineering                 924.5900   1.52e+04      0.061      0.951   -2.88e+04    3.07e+04\n",
      "Job Title_Director of HR                        -1.598e+04   2966.092     -5.388      0.000   -2.18e+04   -1.02e+04\n",
      "Job Title_Director of Marketing                 -1137.4606   2729.270     -0.417      0.677   -6487.731    4212.810\n",
      "Job Title_Director of Operations                -1.197e+04   6392.291     -1.872      0.061   -2.45e+04     562.539\n",
      "Job Title_Financial Analyst                     -9352.7067   3686.436     -2.537      0.011   -1.66e+04   -2126.076\n",
      "Job Title_Financial Manager                      1.586e+04   2314.761      6.850      0.000    1.13e+04    2.04e+04\n",
      "Job Title_Front End Developer                   -1.196e+04   4083.743     -2.929      0.003      -2e+04   -3955.771\n",
      "Job Title_Front end Developer                   -7676.6383   1948.518     -3.940      0.000   -1.15e+04   -3856.901\n",
      "Job Title_Full Stack Engineer                    6097.4425   1853.871      3.289      0.001    2463.244    9731.641\n",
      "Job Title_Graphic Designer                      -3.005e+04   4767.772     -6.303      0.000   -3.94e+04   -2.07e+04\n",
      "Job Title_Human Resources Coordinator           -4.057e+04   3377.950    -12.011      0.000   -4.72e+04    -3.4e+04\n",
      "Job Title_Human Resources Manager                -1.56e+04   2516.200     -6.200      0.000   -2.05e+04   -1.07e+04\n",
      "Job Title_Junior Accountant                     -3.887e+04   1.08e+04     -3.611      0.000      -6e+04   -1.78e+04\n",
      "Job Title_Junior Business Analyst               -3.531e+04   7676.941     -4.600      0.000   -5.04e+04   -2.03e+04\n",
      "Job Title_Junior Business Development Associate -4.085e+04   8190.715     -4.987      0.000   -5.69e+04   -2.48e+04\n",
      "Job Title_Junior Data Analyst                   -3.227e+04   4497.359     -7.176      0.000   -4.11e+04   -2.35e+04\n",
      "Job Title_Junior Financial Analyst              -3.422e+04   7676.120     -4.458      0.000   -4.93e+04   -1.92e+04\n",
      "Job Title_Junior HR Coordinator                 -3.319e+04   4372.881     -7.590      0.000   -4.18e+04   -2.46e+04\n",
      "Job Title_Junior HR Generalist                  -3.352e+04   3200.646    -10.473      0.000   -3.98e+04   -2.72e+04\n",
      "Job Title_Junior Marketing Analyst              -3.698e+04   1.24e+04     -2.982      0.003   -6.13e+04   -1.27e+04\n",
      "Job Title_Junior Marketing Coordinator          -3.602e+04   8827.619     -4.080      0.000   -5.33e+04   -1.87e+04\n",
      "Job Title_Junior Marketing Manager              -2.985e+04   3302.351     -9.038      0.000   -3.63e+04   -2.34e+04\n",
      "Job Title_Junior Marketing Specialist           -3.065e+04   1.24e+04     -2.471      0.013    -5.5e+04   -6339.322\n",
      "Job Title_Junior Operations Analyst             -3.656e+04   1.08e+04     -3.397      0.001   -5.77e+04   -1.55e+04\n",
      "Job Title_Junior Product Manager                -3.169e+04   1.08e+04     -2.944      0.003   -5.28e+04   -1.06e+04\n",
      "Job Title_Junior Project Manager                -3.044e+04   1.52e+04     -2.008      0.045   -6.02e+04    -727.494\n",
      "Job Title_Junior Sales Associate                -2.917e+04   2958.868     -9.858      0.000    -3.5e+04   -2.34e+04\n",
      "Job Title_Junior Sales Representative           -3.065e+04   3778.986     -8.110      0.000   -3.81e+04   -2.32e+04\n",
      "Job Title_Junior Software Developer             -4.226e+04   3145.137    -13.436      0.000   -4.84e+04   -3.61e+04\n",
      "Job Title_Junior Software Engineer              -2.588e+04   3313.968     -7.808      0.000   -3.24e+04   -1.94e+04\n",
      "Job Title_Junior Web Developer                  -3.427e+04   3545.214     -9.666      0.000   -4.12e+04   -2.73e+04\n",
      "Job Title_Juniour HR Coordinator                -2.405e+04   1.25e+04     -1.917      0.055   -4.86e+04     544.039\n",
      "Job Title_Juniour HR Generalist                  -1.83e+04   1.53e+04     -1.198      0.231   -4.82e+04    1.16e+04\n",
      "Job Title_Marketing Analyst                     -2.299e+04   2333.857     -9.852      0.000   -2.76e+04   -1.84e+04\n",
      "Job Title_Marketing Coordinator                 -2.097e+04   2188.062     -9.582      0.000   -2.53e+04   -1.67e+04\n",
      "Job Title_Marketing Director                      3.68e+04   3053.889     12.049      0.000    3.08e+04    4.28e+04\n",
      "Job Title_Marketing Manager                     -7372.0868   1957.843     -3.765      0.000   -1.12e+04   -3534.069\n",
      "Job Title_Marketing Specialist                  -5.709e+04   2.14e+04     -2.669      0.008    -9.9e+04   -1.52e+04\n",
      "Job Title_Operations Manager                    -1.565e+04   2461.271     -6.359      0.000   -2.05e+04   -1.08e+04\n",
      "Job Title_Product Designer                      -2.562e+04   2843.214     -9.012      0.000   -3.12e+04      -2e+04\n",
      "Job Title_Product Manager                        2.891e+04   1832.504     15.778      0.000    2.53e+04    3.25e+04\n",
      "Job Title_Project Manager                        5325.9056   4762.708      1.118      0.264   -4010.574    1.47e+04\n",
      "Job Title_Receptionist                           -2.58e+04   3685.134     -7.000      0.000    -3.3e+04   -1.86e+04\n",
      "Job Title_Research Director                       2.67e+04   3017.941      8.847      0.000    2.08e+04    3.26e+04\n",
      "Job Title_Research Scientist                     2.543e+04   3105.801      8.187      0.000    1.93e+04    3.15e+04\n",
      "Job Title_Sales Associate                       -2.378e+04   3394.427     -7.007      0.000   -3.04e+04   -1.71e+04\n",
      "Job Title_Sales Director                         5682.6851   3059.882      1.857      0.063    -315.693    1.17e+04\n",
      "Job Title_Sales Executive                       -2.517e+04   3937.090     -6.392      0.000   -3.29e+04   -1.74e+04\n",
      "Job Title_Sales Manager                         -3522.0409   3196.337     -1.102      0.271   -9787.916    2743.834\n",
      "Job Title_Sales Representative                  -3.622e+04   3743.854     -9.675      0.000   -4.36e+04   -2.89e+04\n",
      "Job Title_Senior Business Analyst               -1.288e+04   6897.733     -1.868      0.062   -2.64e+04     639.779\n",
      "Job Title_Senior Business Development Manager   -8348.6806   1.08e+04     -0.776      0.438   -2.94e+04    1.27e+04\n",
      "Job Title_Senior Data Analyst                   -1.546e+04   1.25e+04     -1.242      0.214   -3.99e+04    8951.524\n",
      "Job Title_Senior Data Engineer                  -1.171e+04   1.52e+04     -0.771      0.441   -4.15e+04    1.81e+04\n",
      "Job Title_Senior Data Scientist                  1.384e+04   3113.515      4.446      0.000    7739.531    1.99e+04\n",
      "Job Title_Senior Engineer                       -2.633e+04   1.52e+04     -1.733      0.083   -5.61e+04    3456.184\n",
      "Job Title_Senior Financial Advisor              -1.381e+04   1.24e+04     -1.113      0.266   -3.81e+04    1.05e+04\n",
      "Job Title_Senior Financial Analyst              -1.258e+04   8186.653     -1.536      0.124   -2.86e+04    3470.245\n",
      "Job Title_Senior Financial Manager              -1.578e+04   9649.398     -1.635      0.102   -3.47e+04    3134.491\n",
      "Job Title_Senior HR Generalist                  -2.545e+04   3599.891     -7.070      0.000   -3.25e+04   -1.84e+04\n",
      "Job Title_Senior HR Manager                      -1.56e+04   1.24e+04     -1.256      0.209      -4e+04    8754.228\n",
      "Job Title_Senior Human Resources Manager        -1.935e+04   3406.970     -5.681      0.000    -2.6e+04   -1.27e+04\n",
      "Job Title_Senior Marketing Analyst              -2.957e+04   7672.240     -3.854      0.000   -4.46e+04   -1.45e+04\n",
      "Job Title_Senior Marketing Manager              -1.816e+04   6331.310     -2.868      0.004   -3.06e+04   -5748.087\n",
      "Job Title_Senior Marketing Specialist           -1.546e+04   1.08e+04     -1.436      0.151   -3.66e+04    5646.675\n",
      "Job Title_Senior Operations Analyst             -2.395e+04   1.52e+04     -1.580      0.114   -5.37e+04    5759.933\n",
      "Job Title_Senior Operations Coordinator         -1.633e+04   1.24e+04     -1.316      0.188   -4.06e+04    7985.890\n",
      "Job Title_Senior Operations Manager             -1.335e+04   1.08e+04     -1.240      0.215   -3.44e+04    7746.800\n",
      "Job Title_Senior Product Designer               -1.161e+04   9709.463     -1.196      0.232   -3.06e+04    7425.453\n",
      "Job Title_Senior Product Manager                -4450.2795   9648.486     -0.461      0.645   -2.34e+04    1.45e+04\n",
      "Job Title_Senior Product Marketing Manager      -8934.9716   2972.144     -3.006      0.003   -1.48e+04   -3108.589\n",
      "Job Title_Senior Project Coordinator            -3.445e+04   9648.486     -3.571      0.000   -5.34e+04   -1.55e+04\n",
      "Job Title_Senior Project Engineer                1.573e+04   1964.408      8.009      0.000    1.19e+04    1.96e+04\n",
      "Job Title_Senior Project Manager                -2.005e+04   8203.268     -2.444      0.015   -3.61e+04   -3966.475\n",
      "Job Title_Senior Research Scientist             -1237.1923   3512.536     -0.352      0.725   -8122.922    5648.538\n",
      "Job Title_Senior Sales Manager                  -3.161e+04   1.52e+04     -2.083      0.037   -6.14e+04   -1855.328\n",
      "Job Title_Senior Scientist                      -1.782e+04   1.52e+04     -1.173      0.241   -4.76e+04     1.2e+04\n",
      "Job Title_Senior Software Developer             -1.507e+04   1.24e+04     -1.214      0.225   -3.94e+04    9259.656\n",
      "Job Title_Senior Software Engineer               3241.8004   2025.774      1.600      0.110    -729.385    7212.986\n",
      "Job Title_Senior Training Specialist            -3.866e+04   2.14e+04     -1.807      0.071   -8.06e+04    3283.814\n",
      "Job Title_Senior UX Designer                    -4958.5032   1.25e+04     -0.398      0.690   -2.94e+04    1.94e+04\n",
      "Job Title_Social Media Manager                  -2.906e+04   5688.394     -5.109      0.000   -4.02e+04   -1.79e+04\n",
      "Job Title_Software Developer                    -2.202e+04   2369.688     -9.294      0.000   -2.67e+04   -1.74e+04\n",
      "Job Title_Software Engineer                      1.985e+04   1679.992     11.813      0.000    1.66e+04    2.31e+04\n",
      "Job Title_Software Engineer Manager              1.164e+04   1987.348      5.855      0.000    7740.649    1.55e+04\n",
      "Job Title_Software Project Manager              -2.183e+04   2.14e+04     -1.021      0.307   -6.38e+04    2.01e+04\n",
      "Job Title_Web Developer                         -2.797e+04   2668.300    -10.481      0.000   -3.32e+04   -2.27e+04\n",
      "==============================================================================\n",
      "Omnibus:                      106.780   Durbin-Watson:                   0.225\n",
      "Prob(Omnibus):                  0.000   Jarque-Bera (JB):              187.680\n",
      "Skew:                          -0.113   Prob(JB):                     1.76e-41\n",
      "Kurtosis:                       3.796   Cond. No.                         834.\n",
      "==============================================================================\n",
      "\n",
      "Notes:\n",
      "[1] Standard Errors assume that the covariance matrix of the errors is correctly specified.\n"
     ]
    }
   ],
   "source": [
    "print(mco1.summary())"
   ],
   "metadata": {
    "collapsed": false
   }
  },
  {
   "cell_type": "code",
   "execution_count": null,
   "outputs": [],
   "source": [],
   "metadata": {
    "collapsed": false
   }
  }
 ],
 "metadata": {
  "kernelspec": {
   "display_name": "Python 3",
   "language": "python",
   "name": "python3"
  },
  "language_info": {
   "codemirror_mode": {
    "name": "ipython",
    "version": 2
   },
   "file_extension": ".py",
   "mimetype": "text/x-python",
   "name": "python",
   "nbconvert_exporter": "python",
   "pygments_lexer": "ipython2",
   "version": "2.7.6"
  }
 },
 "nbformat": 4,
 "nbformat_minor": 0
}
