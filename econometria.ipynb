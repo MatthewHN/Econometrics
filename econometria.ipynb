{
 "cells": [
  {
   "cell_type": "markdown",
   "source": [
    "# Trabajo final Econometría\n",
    "## Estimador de salarios en puestos Tech de EEUU\n",
    "### Hecho por: Matthew Samuel Horne Negro\n"
   ],
   "metadata": {
    "collapsed": false
   }
  },
  {
   "cell_type": "markdown",
   "source": [
    "# Primeros modelos econométricos"
   ],
   "metadata": {
    "collapsed": false
   }
  },
  {
   "cell_type": "markdown",
   "source": [
    "### 1"
   ],
   "metadata": {
    "collapsed": false
   }
  },
  {
   "cell_type": "code",
   "execution_count": null,
   "outputs": [],
   "source": [
    "import pandas as pd\n",
    "import statsmodels.api as sm\n",
    "import matplotlib.pylab as plt\n",
    "import numpy as np"
   ],
   "metadata": {
    "collapsed": false
   }
  },
  {
   "cell_type": "markdown",
   "source": [
    "Me gusta tener todos los imports juntos por comodidad y no tener que estar repitiendolos o ejeuctando secuencias innecesarias"
   ],
   "metadata": {
    "collapsed": false
   }
  },
  {
   "cell_type": "code",
   "execution_count": null,
   "outputs": [],
   "source": [
    "data = pd.read_csv('Salary_Data.csv')\n",
    "\n",
    "# Modelo Regresión:  modeldata=stock.values\n",
    "X = data.values[:, [0, 4]].astype(int)  # Age, Years of Experience\n",
    "Y = data.values[:, 5].astype(int)  # Salary\n",
    "\n",
    "results = sm.OLS(Y, sm.add_constant(X)).fit()\n",
    "\n",
    "print(results.summary())"
   ],
   "metadata": {
    "collapsed": false
   }
  },
  {
   "cell_type": "markdown",
   "source": [
    "**R-squared (R-cuadrado):**\n",
    "\n",
    "R-squared es una medida de la bondad de ajuste del modelo de regresión. En este caso, el valor es 0.662, lo que significa que aproximadamente el 66.2% de la variabilidad en la variable dependiente (y) puede ser explicada por las variables independientes (x1 y x2) incluidas en el modelo. Un R-cuadrado más alto indica un mejor ajuste del modelo a los datos. Este se alcanzará conforme vayamos haciendo más complejo el modelo e introduzcamos más variables clave como Job Title o Education.\n",
    "\n",
    "**Adj. R-squared (R-cuadrado ajustado):**\n",
    "\n",
    "El R-cuadrado ajustado es similar al R-cuadrado, pero tiene en cuenta el número de variables independientes en el modelo. En este caso, el valor es también 0.662, lo que sugiere que el ajuste del modelo es consistente con el número de variables independientes incluidas.\n",
    "\n",
    "**F-statistic (Estadístico F):**\n",
    "\n",
    "El estadístico F se utiliza para evaluar la significación conjunta de todas las variables independientes en el modelo. Un valor grande del estadístico F (en este caso, 6556) con un p-valor pequeño (0.00) sugiere que al menos una de las variables independientes es significativa en la explicación de la variabilidad en la variable dependiente.\n",
    "\n",
    "**Coeficientes:**\n",
    "\n",
    "Bajo la sección \"coef\", se observan los coeficientes estimados para las variables en el modelo. En este caso, hay tres coeficientes: uno para la constante (intercepto), otro para x1 y otro para x2. Estos coeficientes indican cuánto cambia la variable dependiente (y) por unidad de cambio en las variables independientes (x1 y x2).\n",
    "Por ejemplo, el coeficiente para x2 es 9096.3430, lo que significa que, manteniendo todas las demás variables constantes, ceteris paribus, un aumento de una unidad en x2 se asocia con un aumento de aproximadamente 9096.3430 unidades en la variable dependiente (y), es decir, que en este caso por cada 1 año de experiencia más (Years of experience = x2) aumenta 9096.3430$ el salario (Salary = y)\n",
    "\n",
    "**Estadísticas adicionales:**\n",
    "\n",
    "Se proporcionan varias estadísticas adicionales, como el estadístico Omnibus, Durbin-Watson, Jarque-Bera, Skew, Kurtosis, entre otros. Estas estadísticas pueden ayudar a evaluar suposiciones sobre el modelo y la normalidad de los errores residuales."
   ],
   "metadata": {
    "collapsed": false
   }
  },
  {
   "cell_type": "markdown",
   "source": [
    "<div class=\"alert alert-info\">\n",
    "    <strong>Nota:</strong> Al usar una base de datos con variables que son de tipo string para este primer modelo solo usaremos\n",
    "    variables numéricas y que han tenido que ser forzosamente convertidas a int porque si no, genera un error de tipos.\n",
    "    <br><br>\n",
    "    Más adelante habrá que convertir las variables categóricas en dummies para el correcto funcionamiento\n",
    "\n",
    "</div>"
   ],
   "metadata": {
    "collapsed": false
   }
  },
  {
   "cell_type": "markdown",
   "source": [
    "### 2"
   ],
   "metadata": {
    "collapsed": false
   }
  },
  {
   "cell_type": "code",
   "execution_count": null,
   "outputs": [],
   "source": [
    "n = 100\n",
    "\n",
    "X = np.random.normal(0, 10, n)\n",
    "Y = X + np.random.normal(0, 1, n)"
   ],
   "metadata": {
    "collapsed": false
   }
  },
  {
   "cell_type": "code",
   "execution_count": null,
   "outputs": [],
   "source": [
    "plt.scatter(X, Y, s=1)\n",
    "\n",
    "plt.show()"
   ],
   "metadata": {
    "collapsed": false
   }
  },
  {
   "cell_type": "code",
   "execution_count": null,
   "outputs": [],
   "source": [
    "results = sm.OLS(Y, sm.add_constant(X)).fit()\n",
    "\n",
    "print(results.summary())"
   ],
   "metadata": {
    "collapsed": false
   }
  },
  {
   "cell_type": "code",
   "execution_count": null,
   "outputs": [],
   "source": [
    "cte = results.params[0]\n",
    "beta = results.params[1]\n",
    "\n",
    "plt.plot([-20, 20], [cte + beta * (-20), cte + beta * 20], color='r')\n",
    "plt.scatter(X, Y, s=1)\n",
    "\n",
    "plt.show()"
   ],
   "metadata": {
    "collapsed": false
   }
  },
  {
   "cell_type": "markdown",
   "source": [
    "El código de los bloques realiza una simulación de datos y ajusta un modelo de regresión lineal a dichos datos.\n",
    "\n",
    "1. **Generación de Datos:** Se crean dos conjuntos de datos, X e Y, donde X son valores tomados de una distribución normal con una media de 0 y desviación estándar de 10, e Y es una función lineal de X más un término de error aleatorio normalmente distribuido. Esto simula una relación lineal entre X e Y con algo de ruido.\n",
    "\n",
    "2. **Visualización de Datos:** Se genera un gráfico de dispersión utilizando matplotlib para visualizar la relación entre X e Y. Cada punto representa una observación del conjunto de datos simulado.\n",
    "\n",
    "3. **Ajuste de Modelo de Regresión:** Se ajusta un modelo de regresión lineal ordinaria de mínimos cuadrados utilizando statsmodels con Y como variable dependiente y X como independiente. Se añade una constante al modelo para incluir un término de intercepto. Se imprime un resumen del modelo que proporciona detalles estadísticos del ajuste.\n",
    "\n",
    "4. **Visualización del Modelo de Regresión:** Se extraen el intercepto y la pendiente (coeficientes) del modelo ajustado y se utiliza para dibujar la línea de regresión sobre el gráfico de dispersión existente. La línea roja representa la relación estimada entre X e Y según el modelo de regresión."
   ],
   "metadata": {
    "collapsed": false
   }
  },
  {
   "cell_type": "markdown",
   "source": [
    "---"
   ],
   "metadata": {
    "collapsed": false
   }
  },
  {
   "cell_type": "markdown",
   "source": [
    "# Estimación e Inferencia en Modelos de Regresión Lineales"
   ],
   "metadata": {
    "collapsed": false
   }
  },
  {
   "cell_type": "markdown",
   "source": [
    "## Modelo 1"
   ],
   "metadata": {
    "collapsed": false
   }
  },
  {
   "cell_type": "code",
   "execution_count": null,
   "outputs": [],
   "source": [
    "# Reemplaza 'tu_archivo.csv' con el nombre de tu archivo CSV\n",
    "df = pd.read_csv('Salary_Data.csv')\n",
    "\n",
    "# Muestra información general sobre el DataFrame, como el tipo de datos y los valores no nulos\n",
    "#print(df.info())\n",
    "\n",
    "# Muestra estadísticas descriptivas de las variables numéricas\n",
    "print(df.describe())"
   ],
   "metadata": {
    "collapsed": false
   }
  },
  {
   "cell_type": "markdown",
   "source": [
    "1. **Count (Conteo):** Muestra el número total de entradas (no nulas) para cada variable.\n",
    "    - En este caso, hay 6695 entradas para cada una de las variables: Age (Edad), Years of Experience (Años de Experiencia) y Salary (Salario).\n",
    "\n",
    "2. **Mean (Media):** Es el promedio de los valores para cada variable.\n",
    "    - La edad promedio es aproximadamente 33.63 años.\n",
    "    - Los años de experiencia promedio son aproximadamente 8.10 años.\n",
    "    - El salario promedio es de aproximadamente 115,395.57 unidades monetarias ($).\n",
    "\n",
    "3. **Std (Desviación Estándar):** Mide la cantidad de variación o dispersión de un conjunto de valores.\n",
    "    - La desviación estándar de la edad es aproximadamente 7.62 años, lo que indica la variabilidad de la edad en el conjunto de datos.\n",
    "    - La desviación estándar de los años de experiencia es de aproximadamente 6.06 años.\n",
    "    - La desviación estándar del salario es de aproximadamente 52,727.24, indicando la variabilidad en los salarios.\n",
    "\n",
    "4. **Min (Mínimo):** Es el valor más bajo en cada columna.\n",
    "    - La edad mínima es de 21 años.\n",
    "    - El mínimo de años de experiencia es 0 (personas sin experiencia previa).\n",
    "    - El salario mínimo es de 25,000.\n",
    "\n",
    "5. **25% (Percentil 25):** Este es el valor por debajo del cual se encuentra el 25% de los datos.\n",
    "    - 25% de los empleados tienen 28 años o menos.\n",
    "    - 25% tienen 3 años o menos de experiencia.\n",
    "    - 25% ganan 70,000 o menos.\n",
    "\n",
    "6. **50% (Mediana o Percentil 50):** Es el valor medio, donde la mitad de los datos está por debajo de este valor y la otra mitad por encima.\n",
    "    - La mediana de la edad es de 32 años.\n",
    "    - La mediana de los años de experiencia es de 7 años.\n",
    "    - La mediana del salario es de 115,000.\n",
    "\n",
    "7. **75% (Percentil 75):** El valor por debajo del cual se encuentra el 75% de los datos.\n",
    "    - 75% de los empleados tienen 38 años o menos.\n",
    "    - 75% tienen 12 años o menos de experiencia.\n",
    "    - 75% ganan 160,000 o menos.\n",
    "\n",
    "8. **Max (Máximo):** Es el valor más alto en cada columna.\n",
    "    - La edad máxima es de 62 años.\n",
    "    - El máximo de años de experiencia es de 34 años.\n",
    "    - El salario máximo es de 250,000."
   ],
   "metadata": {
    "collapsed": false
   }
  },
  {
   "cell_type": "code",
   "execution_count": null,
   "outputs": [],
   "source": [
    "datos = pd.read_csv('Salary_Data.csv')\n",
    "datos = pd.get_dummies(datos, columns=['Education Level', 'Job Title', 'Gender'], dtype=int)\n",
    "\n",
    "display(datos)"
   ],
   "metadata": {
    "collapsed": false
   }
  },
  {
   "cell_type": "markdown",
   "source": [
    "<div class=\"alert alert-info\">\n",
    "    <strong>Nota:</strong> He estado horas atascado creando las dummies, al crear los dummies por defecto los tipos se establecen a TRUE o FALSE, sin embargo nosotros solo trabajamos con números así que, después de horas averigué que solo había que castearlo a tipo int (dtype=int).\n",
    "\n",
    "</div>"
   ],
   "metadata": {
    "collapsed": false
   }
  },
  {
   "cell_type": "code",
   "execution_count": null,
   "outputs": [],
   "source": [
    "y = datos['Salary']\n",
    "\n",
    "# Definir 'X' incluyendo todas las columnas de 'Education Level_*' y 'Years of Experience'\n",
    "# Filtrar las columnas que comienzan con 'Education Level_'\n",
    "education_columns = [col for col in datos if col.startswith('Education Level_')]\n",
    "job_columns = [col for col in datos if col.startswith('Job Title_')]\n",
    "gender_columns = [col for col in datos if col.startswith('Gender_')]\n",
    "\n",
    "X = sm.add_constant(datos[education_columns + ['Years of Experience'] + job_columns + ['Age'] + gender_columns])"
   ],
   "metadata": {
    "collapsed": false
   }
  },
  {
   "cell_type": "markdown",
   "source": [
    "## Estadísticos Descriptivos:"
   ],
   "metadata": {
    "collapsed": false
   }
  },
  {
   "cell_type": "code",
   "execution_count": null,
   "outputs": [],
   "source": [
    "media = np.mean(y)\n",
    "Q1 = np.quantile(y, 0.25)\n",
    "Q3 = np.quantile(y, 0.75)\n",
    "DesviacionTipica = np.std(y)\n",
    "Mediana = np.median(y)\n",
    "histograma = plt.hist(y, bins='auto', rwidth=0.85, density=True)\n",
    "plt.xlabel('y')\n",
    "plt.ylabel('Frecuencia')\n",
    "plt.title(\"Histograma de y (salary) ($)\")\n",
    "plt.show()\n",
    "print(\"Q1: \", Q1, \"($) Mediana:\", Mediana, \"($) Q3: \", Q3, \"($) DT: \", DesviacionTipica, \"($) Media:\", np.mean(y),\n",
    "      \"($)\")"
   ],
   "metadata": {
    "collapsed": false
   }
  },
  {
   "cell_type": "markdown",
   "source": [
    "1. Media: 115,395.57\n",
    "2. Primer Cuartil (Q1): 70,000.00\n",
    "3. Tercer Cuartil (Q3): 160,000.00\n",
    "4. Desviación Estándar: 52,723.3\n",
    "5. Mediana: 115,000.00"
   ],
   "metadata": {
    "collapsed": false
   }
  },
  {
   "cell_type": "code",
   "execution_count": null,
   "outputs": [],
   "source": [
    "#np.asarray(education_columns)\n",
    "mco1 = sm.OLS(y, X).fit()\n",
    "print(mco1.summary())"
   ],
   "metadata": {
    "collapsed": false
   }
  },
  {
   "cell_type": "markdown",
   "source": [
    "Como vemos ya se nos está avisando de que puede haber problemas con la multicolinealidad, intentaremos solucionarlo más adelante cuando llegue el momento quizás con una depuración manual de los datos o utilizar técnicas como el factor de inflación de la varianza (VIF) para identificar y posiblemente eliminar variables independientes que estén altamente correlacionadas."
   ],
   "metadata": {
    "collapsed": false
   }
  },
  {
   "cell_type": "markdown",
   "source": [
    "## Interpretación de los resultados\n",
    "\n",
    "#### Medidas de Bondad de Ajuste:\n",
    "\n",
    "- **R-squared (R-cuadrado):**\n",
    "    El valor es 0.839, lo que indica que aproximadamente el 83.9% de la variabilidad en el salario se puede explicar con el modelo. Es una medida bastante alta de bondad de ajuste considerando que estamos tratando de estimar salarios.\n",
    "\n",
    "- **Adjusted R-squared (R-cuadrado ajustado):**\n",
    "    Con un valor de 0.837, después de ajustar por el número de predictores, sigue siendo muy alto, lo que indica que el modelo se ajusta bien a los datos.\n",
    "\n",
    "- **F-statistic (Estadístico F):**\n",
    "    Con un valor de 328.4 y un Prob (F-statistic) cercano a 0, sugiere que el modelo es estadísticamente significativo en su conjunto, es decir, hay evidencia de que al menos una de las variables independientes está relacionada con el salario.\n",
    "\n",
    "#### Diagnóstico de Residuos:\n",
    "- **Omnibus:**\n",
    "    El valor del test estadístico es 97.368, que es bastante alto. Este resultado sugiere que hay una fuerte evidencia estadística de que los residuos no se distribuyen normalmente.\n",
    "\n",
    "- **Prob(Omnibus):**\n",
    "    El valor p asociado con el estadístico Omnibus es 0.000. Un valor p tan bajo (generalmente se considera significativo si es menor que 0.05) indica que podemos rechazar la hipótesis nula de que los residuos tienen una distribución normal. Esto significa que hay una alta probabilidad de que los residuos no sigan una distribución normal.\n",
    "\n",
    "- **Durbin-Watson:**\n",
    "    El valor es 0.216, que está muy por debajo de 2, sugiriendo la presencia de autocorrelación positiva entre los residuos, lo que podría ser un problema, ya que los residuos de un modelo bien ajustado deben ser independientes entre sí.\n",
    "\n",
    "- **Jarque-Bera (JB) y Prob(JB):**\n",
    "    -El valor del estadístico JB es 178.435 y el valor p es extremadamente pequeño, indicando que los residuos no siguen una distribución normal, lo cual es una violación de uno de los supuestos de la regresión OLS.\n",
    "\n",
    "- **Skew (Asimetría):**\n",
    "    El valor de -0.062 indica que la distribución de los residuos es ligeramente asimétrica, pero no es una preocupación mayor dado que está cerca de cero.\n",
    "\n",
    "- **Kurtosis:**\n",
    "    Un valor de 3.797 sugiere que la distribución de los residuos tiene colas más pesadas que una distribución normal, lo cual podría ser una señal de outliers o de un pico más pronunciado.\n",
    "\n",
    "- **Cond. No. (Número de Condición):**\n",
    "    El valor es extremadamente alto (4.75e+16), lo que indica la presencia de multicolinealidad entre las variables predictoras. Esto significa que algunas de las variables independientes están altamente correlacionadas entre sí, lo que puede inflar los errores estándar de los coeficientes y hacer que las estimaciones sean inestables.interpret\n"
   ],
   "metadata": {
    "collapsed": false
   }
  },
  {
   "cell_type": "code",
   "execution_count": null,
   "outputs": [],
   "source": [
    "e=mco1.resid\n",
    "print(e)\n",
    "print(np.mean(e))"
   ],
   "metadata": {
    "collapsed": false
   }
  },
  {
   "cell_type": "code",
   "execution_count": null,
   "outputs": [],
   "source": [
    "table = sm.stats.anova_lm(mco1)\n",
    "print(table)"
   ],
   "metadata": {
    "collapsed": false
   }
  },
  {
   "cell_type": "code",
   "execution_count": null,
   "outputs": [],
   "source": [
    "print(mco1.centered_tss)"
   ],
   "metadata": {
    "collapsed": false
   }
  },
  {
   "cell_type": "code",
   "execution_count": null,
   "outputs": [],
   "source": [
    "print(mco1.ess)"
   ],
   "metadata": {
    "collapsed": false
   }
  },
  {
   "cell_type": "code",
   "execution_count": null,
   "outputs": [],
   "source": [
    "print(mco1.ssr)"
   ],
   "metadata": {
    "collapsed": false
   }
  },
  {
   "cell_type": "code",
   "execution_count": null,
   "outputs": [],
   "source": [
    "print(\"R2: \", mco1.rsquared)\n",
    "print(\"R2 Ajustado: \", mco1.rsquared_adj)"
   ],
   "metadata": {
    "collapsed": false
   }
  },
  {
   "cell_type": "code",
   "execution_count": null,
   "outputs": [],
   "source": [
    "Fexp=mco1.fvalue\n",
    "Fexp\n",
    "from scipy import stats\n",
    "alpha=0.025\n",
    "Fteo= stats.f.ppf(1-alpha, mco1.df_model, mco1.df_resid)\n",
    "print(Fteo)"
   ],
   "metadata": {
    "collapsed": false
   }
  },
  {
   "cell_type": "code",
   "execution_count": null,
   "outputs": [],
   "source": [
    "texp=mco1.tvalues\n",
    "print(\"texp: \", texp)\n",
    "alpha=0.098\n",
    "tteo= stats.t.ppf(1-(alpha/2),mco1.df_resid)\n",
    "print(tteo)"
   ],
   "metadata": {
    "collapsed": false
   }
  },
  {
   "cell_type": "code",
   "execution_count": null,
   "outputs": [],
   "source": [
    "print(mco1.conf_int(0.075))"
   ],
   "metadata": {
    "collapsed": false
   }
  },
  {
   "cell_type": "code",
   "execution_count": null,
   "outputs": [],
   "source": [
    "beta=np.array(mco1.params)\n",
    "e =mco1.resid\n",
    "sum(e**2)/(mco1.nobs-1)\n",
    "sigmagorro=(np.dot(y.values, y.values)-np.dot(beta.T, np.dot(X.values.T,y.values)))/(mco1.nobs-1)\n",
    "\n",
    "print(sigmagorro)"
   ],
   "metadata": {
    "collapsed": false
   }
  },
  {
   "cell_type": "code",
   "execution_count": null,
   "outputs": [],
   "source": [
    "histograma=plt.hist(datos[\"Salary\"], bins='auto', rwidth=0.85)"
   ],
   "metadata": {
    "collapsed": false
   }
  }
 ],
 "metadata": {
  "kernelspec": {
   "display_name": "Python 3",
   "language": "python",
   "name": "python3"
  },
  "language_info": {
   "codemirror_mode": {
    "name": "ipython",
    "version": 2
   },
   "file_extension": ".py",
   "mimetype": "text/x-python",
   "name": "python",
   "nbconvert_exporter": "python",
   "pygments_lexer": "ipython2",
   "version": "2.7.6"
  }
 },
 "nbformat": 4,
 "nbformat_minor": 0
}
